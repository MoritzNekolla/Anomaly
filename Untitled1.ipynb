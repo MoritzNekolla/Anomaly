{
 "cells": [
  {
   "cell_type": "code",
   "execution_count": 10,
   "metadata": {},
   "outputs": [
    {
     "ename": "ModuleNotFoundError",
     "evalue": "No module named 'clearml'",
     "output_type": "error",
     "traceback": [
      "\u001b[0;31m---------------------------------------------------------------------------\u001b[0m",
      "\u001b[0;31mModuleNotFoundError\u001b[0m                       Traceback (most recent call last)",
      "Input \u001b[0;32mIn [10]\u001b[0m, in \u001b[0;36m<cell line: 1>\u001b[0;34m()\u001b[0m\n\u001b[0;32m----> 1\u001b[0m \u001b[38;5;28;01mfrom\u001b[39;00m \u001b[38;5;21;01mclearml\u001b[39;00m \u001b[38;5;28;01mimport\u001b[39;00m Task\n\u001b[1;32m      2\u001b[0m \u001b[38;5;28;01mfrom\u001b[39;00m \u001b[38;5;21;01mclearml\u001b[39;00m \u001b[38;5;28;01mimport\u001b[39;00m Dataset\n\u001b[1;32m      3\u001b[0m \u001b[38;5;28;01mimport\u001b[39;00m \u001b[38;5;21;01mmatplotlib\u001b[39;00m\u001b[38;5;21;01m.\u001b[39;00m\u001b[38;5;21;01mpyplot\u001b[39;00m \u001b[38;5;28;01mas\u001b[39;00m \u001b[38;5;21;01mplt\u001b[39;00m\n",
      "\u001b[0;31mModuleNotFoundError\u001b[0m: No module named 'clearml'"
     ]
    }
   ],
   "source": [
    "from clearml import Task\n",
    "from clearml import Dataset\n",
    "import matplotlib.pyplot as plt\n",
    "import cv2\n",
    "import numpy as np\n",
    "from Image_Sampler import Sampler\n",
    "\n",
    "task = Task.init(project_name=\"bogdoll/Anomaly_detection_Moritz\", task_name=\"example_run\", reuse_last_task_id=False)\n",
    "\n",
    "# Remote Execution on FZI XZ\n",
    "task.set_base_docker(\n",
    "            \"nvcr.io/nvidia/pytorch:21.10-py3\",\n",
    "            docker_setup_bash_script=\"apt-get update && apt-get install -y python3-opencv\",\n",
    "            docker_arguments=\"-e NVIDIA_DRIVER_CAPABILITIES=all\",  # --ipc=host\",\n",
    "        )\n",
    "# PyTorch fix for version 1.10, see https://github.com/pytorch/pytorch/pull/69904\n",
    "# task.add_requirements(\n",
    "#     package_name=\"setuptools\",\n",
    "#     package_version=\"59.5.0\",\n",
    "# )\n",
    "# task.add_requirements(\n",
    "#     package_name=\"moviepy\",\n",
    "#     package_version=\"1.0.3\",\n",
    "# )\n",
    "task.execute_remotely('docker', clone=False, exit_process=True)                                                                              # http://tks-zx-01.fzi.de:8080/workers-and-queues/queues\n",
    "\n",
    "print(\"Halloooooooooooooooasda ssssssssssssssssssss\")\n",
    "TEST_ID = \"8ce5cdd31e8e499db2e07fc70b6136d5\"\n",
    "test_data = Dataset.get(dataset_id=TEST_ID).get_local_copy()\n",
    "# test_data = np.array(test_data).astype(\"float32\") / 255\n",
    "img = Sampler.load_Images(test_data).astype(\"float32\") / 255\n",
    "plt.imshow(img[0])"
   ]
  },
  {
   "cell_type": "code",
   "execution_count": 7,
   "metadata": {},
   "outputs": [
    {
     "ename": "IndexError",
     "evalue": "invalid index to scalar variable.",
     "output_type": "error",
     "traceback": [
      "\u001b[0;31m---------------------------------------------------------------------------\u001b[0m",
      "\u001b[0;31mIndexError\u001b[0m                                Traceback (most recent call last)",
      "Input \u001b[0;32mIn [7]\u001b[0m, in \u001b[0;36m<cell line: 1>\u001b[0;34m()\u001b[0m\n\u001b[0;32m----> 1\u001b[0m \u001b[43mimg\u001b[49m\u001b[43m[\u001b[49m\u001b[38;5;241;43m0\u001b[39;49m\u001b[43m]\u001b[49m\u001b[43m[\u001b[49m\u001b[38;5;241;43m0\u001b[39;49m\u001b[43m]\u001b[49m\u001b[43m[\u001b[49m\u001b[38;5;241;43m0\u001b[39;49m\u001b[43m]\u001b[49m\u001b[43m[\u001b[49m\u001b[38;5;241;43m0\u001b[39;49m\u001b[43m]\u001b[49m\u001b[38;5;241m.\u001b[39mtype\n",
      "\u001b[0;31mIndexError\u001b[0m: invalid index to scalar variable."
     ]
    }
   ],
   "source": []
  }
 ],
 "metadata": {
  "kernelspec": {
   "display_name": "VAE_env",
   "language": "python",
   "name": "vae"
  },
  "language_info": {
   "codemirror_mode": {
    "name": "ipython",
    "version": 3
   },
   "file_extension": ".py",
   "mimetype": "text/x-python",
   "name": "python",
   "nbconvert_exporter": "python",
   "pygments_lexer": "ipython3",
   "version": "3.8.10"
  }
 },
 "nbformat": 4,
 "nbformat_minor": 4
}
