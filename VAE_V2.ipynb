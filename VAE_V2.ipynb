{
 "cells": [
  {
   "cell_type": "code",
   "execution_count": 1,
   "id": "94c562d6",
   "metadata": {},
   "outputs": [],
   "source": [
    "import torch\n",
    "import torch.nn as nn\n",
    "from torchvision import datasets\n",
    "import torchvision.transforms as transforms\n",
    "from torch.utils.data import DataLoader\n",
    "import matplotlib.pyplot as plt\n",
    "import numpy as np\n",
    "from torch import optim\n",
    "import torch.nn.functional as  F\n",
    "\n",
    "PATH = \"/disk/vanishing_data/is789/models/ciffar10_tiny.pt\""
   ]
  },
  {
   "cell_type": "code",
   "execution_count": 2,
   "id": "82c39fd6",
   "metadata": {},
   "outputs": [
    {
     "name": "stdout",
     "output_type": "stream",
     "text": [
      "Files already downloaded and verified\n",
      "Files already downloaded and verified\n"
     ]
    }
   ],
   "source": [
    "train_data = datasets.CIFAR10(root='/disk/vanishing_data/is789/datasets/',\n",
    "                          train=True,\n",
    "                          transform=transforms.ToTensor(),\n",
    "                          download=True)\n",
    "\n",
    "test_data = datasets.CIFAR10(root='/disk/vanishing_data/is789/datasets/',\n",
    "                          train=False,\n",
    "                          transform=transforms.ToTensor(),\n",
    "                          download=True)\n"
   ]
  },
  {
   "cell_type": "code",
   "execution_count": 3,
   "id": "47f51183",
   "metadata": {},
   "outputs": [
    {
     "name": "stderr",
     "output_type": "stream",
     "text": [
      "/tmp/fzi-is789/ipykernel_215837/930371099.py:12: FutureWarning: The input object of type 'Tensor' is an array-like implementing one of the corresponding protocols (`__array__`, `__array_interface__` or `__array_struct__`); but not a sequence (or 0-D). In the future, this object will be coerced as if it was first converted using `np.array(obj)`. To retain the old behaviour, you have to either modify the type 'Tensor', or assign to an empty array created with `np.empty(correct_shape, dtype=object)`.\n",
      "  return np.array(new_data)\n",
      "/tmp/fzi-is789/ipykernel_215837/930371099.py:12: VisibleDeprecationWarning: Creating an ndarray from ragged nested sequences (which is a list-or-tuple of lists-or-tuples-or ndarrays with different lengths or shapes) is deprecated. If you meant to do this, you must specify 'dtype=object' when creating the ndarray.\n",
      "  return np.array(new_data)\n"
     ]
    }
   ],
   "source": [
    "## exclude label\n",
    "## only take some categories\n",
    "def discardLabels(data, size=3):\n",
    "    new_data = []\n",
    "    for img, tag in data:\n",
    "#         img = img.numpy()\n",
    "#         img = np.transpose(img, (1,2,0))\n",
    "        if tag < size:\n",
    "            new_data.append(img)\n",
    "        \n",
    "        \n",
    "    return np.array(new_data)\n",
    "\n",
    "train_data = discardLabels(train_data, 2)\n",
    "test_data = discardLabels(test_data, 2)"
   ]
  },
  {
   "cell_type": "code",
   "execution_count": 4,
   "id": "3c050c86",
   "metadata": {},
   "outputs": [
    {
     "data": {
      "text/plain": [
       "10000"
      ]
     },
     "execution_count": 4,
     "metadata": {},
     "output_type": "execute_result"
    }
   ],
   "source": [
    "len(train_data)"
   ]
  },
  {
   "cell_type": "code",
   "execution_count": 5,
   "id": "6e647ae4",
   "metadata": {},
   "outputs": [
    {
     "data": {
      "text/plain": [
       "<matplotlib.image.AxesImage at 0x7f37e241a8b0>"
      ]
     },
     "execution_count": 5,
     "metadata": {},
     "output_type": "execute_result"
    },
    {
     "data": {
      "image/png": "[encoded data removed]",
      "text/plain": [
       "<Figure size 432x288 with 1 Axes>"
      ]
     },
     "metadata": {
      "needs_background": "light"
     },
     "output_type": "display_data"
    }
   ],
   "source": [
    "img = train_data[11]\n",
    "img = img.numpy()\n",
    "img = np.transpose(img, (1,2,0))\n",
    "plt.imshow(img)"
   ]
  },
  {
   "cell_type": "code",
   "execution_count": 6,
   "id": "d5d98113",
   "metadata": {},
   "outputs": [
    {
     "data": {
      "text/plain": [
       "<matplotlib.image.AxesImage at 0x7f37e038b970>"
      ]
     },
     "execution_count": 6,
     "metadata": {},
     "output_type": "execute_result"
    },
    {
     "data": {
      "image/png": "[encoded data removed]",
      "text/plain": [
       "<Figure size 432x288 with 1 Axes>"
      ]
     },
     "metadata": {
      "needs_background": "light"
     },
     "output_type": "display_data"
    }
   ],
   "source": [
    "img = test_data[10]\n",
    "img = img.numpy()\n",
    "img = np.transpose(img, (1,2,0))\n",
    "plt.imshow(img)"
   ]
  },
  {
   "cell_type": "code",
   "execution_count": 7,
   "id": "c51232e9",
   "metadata": {},
   "outputs": [
    {
     "data": {
      "text/plain": [
       "torch.Size([2000, 3, 32, 32])"
      ]
     },
     "execution_count": 7,
     "metadata": {},
     "output_type": "execute_result"
    }
   ],
   "source": [
    "## apply noise\n",
    "noise_set = []\n",
    "\n",
    "for img in test_data:\n",
    "    pic = img.numpy().copy()\n",
    "    pic[:,10:15,:] = 0.0\n",
    "    noise_set.append(pic)\n",
    "\n",
    "noise_set = np.array(noise_set)\n",
    "noise_set = torch.as_tensor(noise_set)\n",
    "noise_set.shape"
   ]
  },
  {
   "cell_type": "code",
   "execution_count": 8,
   "id": "28d7a4b4",
   "metadata": {},
   "outputs": [
    {
     "data": {
      "text/plain": [
       "<matplotlib.image.AxesImage at 0x7f37e0308190>"
      ]
     },
     "execution_count": 8,
     "metadata": {},
     "output_type": "execute_result"
    },
    {
     "data": {
      "image/png": "[encoded data removed]",
      "text/plain": [
       "<Figure size 432x288 with 1 Axes>"
      ]
     },
     "metadata": {
      "needs_background": "light"
     },
     "output_type": "display_data"
    }
   ],
   "source": [
    "## show noisy image\n",
    "\n",
    "img = noise_set[10]\n",
    "# img = img.squeeze()\n",
    "img = img.numpy()\n",
    "img = np.transpose(img, (1,2,0))\n",
    "plt.imshow(img)"
   ]
  },
  {
   "cell_type": "code",
   "execution_count": 9,
   "id": "746b689b",
   "metadata": {},
   "outputs": [
    {
     "name": "stdout",
     "output_type": "stream",
     "text": [
      "cuda\n"
     ]
    }
   ],
   "source": [
    "device = torch.device(\"cuda\" if torch.cuda.is_available() else \"cpu\")\n",
    "print(device)\n"
   ]
  },
  {
   "cell_type": "code",
   "execution_count": 10,
   "id": "c61537df",
   "metadata": {},
   "outputs": [],
   "source": [
    "BATCH_SIZE = 128\n",
    "class VAE(nn.Module):\n",
    "    \n",
    "    def __init__(self, imgChannels=3, imgSize=32, zDim=1024):\n",
    "        super(VAE, self).__init__()\n",
    "        \n",
    "        stride=1\n",
    "        padding=0\n",
    "        kernel=3\n",
    "        layers=[64, 128, 128, 256]\n",
    "\n",
    "        # Initializing the 2 convolutional layers and 2 full-connected layers for the encoder\n",
    "        self.encConv1 = nn.Conv2d(in_channels=imgChannels, out_channels=layers[0], kernel_size=kernel, stride=stride)\n",
    "        self.encBn1 = nn.BatchNorm2d(layers[0])\n",
    "        self.encConv2 = nn.Conv2d(in_channels=layers[0], out_channels=layers[1], kernel_size=kernel, stride=stride)\n",
    "        self.encBn2 = nn.BatchNorm2d(layers[1])\n",
    "        self.encConv3 = nn.Conv2d(in_channels=layers[1], out_channels=layers[2], kernel_size=kernel, stride=stride)\n",
    "        self.encBn3 = nn.BatchNorm2d(layers[2])\n",
    "        self.encConv4 = nn.Conv2d(in_channels=layers[2], out_channels=layers[3], kernel_size=kernel, stride=stride)\n",
    "        self.encBn4 = nn.BatchNorm2d(layers[3])\n",
    "        \n",
    "        encoderDims = self.calcEncoderDims(len(layers), imgSize, kernel, padding, stride)\n",
    "        featureDim = layers[-1] * encoderDims[-1] * encoderDims[-1]\n",
    "        self.encFC1 = nn.Linear(featureDim, zDim)\n",
    "        self.encFC2 = nn.Linear(featureDim, zDim)\n",
    "\n",
    "        # Initializing the fully-connected layer and 2 convolutional layers for decoder\n",
    "        self.decFC1 = nn.Linear(zDim, featureDim)\n",
    "        self.decBn1 = nn.BatchNorm1d(featureDim)\n",
    "        self.decConv1 = nn.ConvTranspose2d(in_channels=layers[3], out_channels=layers[2], kernel_size=kernel, stride=stride)\n",
    "        self.decBn2 = nn.BatchNorm2d(layers[2])\n",
    "        self.decConv2 = nn.ConvTranspose2d(in_channels=layers[2], out_channels=layers[1], kernel_size=kernel, stride=stride)\n",
    "        self.decBn3 = nn.BatchNorm2d(layers[1])\n",
    "        self.decConv3 = nn.ConvTranspose2d(in_channels=layers[1], out_channels=layers[0], kernel_size=kernel, stride=stride)\n",
    "        self.decBn4 = nn.BatchNorm2d(layers[0])\n",
    "        self.decConv4 = nn.ConvTranspose2d(layers[0], imgChannels, kernel_size=3, stride=1)\n",
    "        \n",
    "        self.final_encoder_dim = None\n",
    "        \n",
    "        decoderDims = self.calcDecoderDims(len(layers), encoderDims[-1], kernel, padding, stride)\n",
    "        self.printModel(layers, encoderDims, decoderDims, imgSize, imgChannels)\n",
    "\n",
    "    def calcEncoderDims(self, layer_size, imageSize, kernel, padding, stride):\n",
    "        newDims = [imageSize]\n",
    "        for x in range(layer_size):\n",
    "            tmpSize = int((newDims[-1]-kernel+2*padding)/stride)+1\n",
    "            newDims.append(tmpSize)\n",
    "        newDims.pop(0)\n",
    "        return newDims\n",
    "    \n",
    "    def calcDecoderDims(self, layer_size, imageSize, kernel, padding, stride, d=1):\n",
    "        newDims = [imageSize]\n",
    "        for x in range(layer_size):\n",
    "            tmpSize = (newDims[-1] - 1)*stride - 2*padding + d*(kernel - 1) + padding + 1\n",
    "            newDims.append(tmpSize)\n",
    "#         newDims.pop(0)\n",
    "        return newDims\n",
    "    \n",
    "    \n",
    "    def printModel(self, layers, encDims, decDims, imageSize, imgChannels):\n",
    "        print(\"=============\")\n",
    "        print(\"Image Flow:\")\n",
    "        print(\"Encoder:\")\n",
    "        print(f\"{imageSize}x{imageSize}x{imgChannels} (Input Image)\")\n",
    "        for x in range(len(layers)):\n",
    "            print(f\"{encDims[x]}x{encDims[x]}x{layers[x]}\")\n",
    "        \n",
    "        print(\"Decoder:\")\n",
    "        k = len(layers) - 1\n",
    "        for x in range(len(layers)):\n",
    "            print(f\"{decDims[x]}x{decDims[x]}x{layers[k]}\")\n",
    "            k = k - 1\n",
    "        print(f\"{decDims[-1]}x{decDims[-1]}x{imgChannels} (Output Image)\")\n",
    "        print(\"=============\")\n",
    "            \n",
    "        \n",
    "    def encoder(self, x):\n",
    "\n",
    "        x = F.relu(self.encConv1(x))\n",
    "        x = self.encBn1(x)\n",
    "#         print(x.size())\n",
    "        x = F.relu(self.encConv2(x))\n",
    "        x = self.encBn2(x)\n",
    "#         print(x.size())\n",
    "        x = F.relu(self.encConv3(x))\n",
    "        x = self.encBn3(x)\n",
    "#         print(x.size())\n",
    "        x = F.relu(self.encConv4(x))\n",
    "        x = self.encBn4(x)\n",
    "#         print(x.size())\n",
    "        self.final_encoder_dim = np.array([x.size(1), x.size(2), x.size(3)])\n",
    "        flatten = np.prod(self.final_encoder_dim)\n",
    "\n",
    "        x = x.view(-1, flatten)\n",
    "        mu = self.encFC1(x)\n",
    "        logVar = self.encFC2(x)\n",
    "        return mu, logVar\n",
    "\n",
    "    def reparameterize(self, mu, logVar):\n",
    "\n",
    "        #Reparameterization takes in the input mu and logVar and sample the mu + std * eps\n",
    "        std = torch.exp(logVar/2)\n",
    "        eps = torch.randn_like(std)\n",
    "        return mu + std * eps\n",
    "\n",
    "    def decoder(self, z):\n",
    "\n",
    "        # z is fed back into a fully-connected layers and then into two transpose convolutional layers\n",
    "        # The generated output is the same size of the original input\n",
    "        x = F.relu(self.decFC1(z))\n",
    "        x = self.decBn1(x)\n",
    "        x = x.view(-1, self.final_encoder_dim[0], self.final_encoder_dim[1], self.final_encoder_dim[2])\n",
    "        x = F.relu(self.decConv1(x))\n",
    "        x = self.decBn2(x)\n",
    "        x = F.relu(self.decConv2(x))\n",
    "        x = self.decBn3(x)\n",
    "        x = F.relu(self.decConv3(x))\n",
    "        x = self.decBn4(x)\n",
    "        x = torch.sigmoid(self.decConv4(x))\n",
    "        return x\n",
    "\n",
    "    def forward(self, x):\n",
    "\n",
    "        # The entire pipeline of the VAE: encoder -> reparameterization -> decoder\n",
    "        # output, mu, and logVar are returned for loss computation\n",
    "        mu, logVar = self.encoder(x)\n",
    "        z = self.reparameterize(mu, logVar)\n",
    "        out = self.decoder(z)\n",
    "        return out, mu, logVar"
   ]
  },
  {
   "cell_type": "code",
   "execution_count": 11,
   "id": "535b61db",
   "metadata": {},
   "outputs": [
    {
     "name": "stdout",
     "output_type": "stream",
     "text": [
      "=============\n",
      "Image Flow:\n",
      "Encoder:\n",
      "32x32x3 (Input Image)\n",
      "30x30x64\n",
      "28x28x128\n",
      "26x26x128\n",
      "24x24x256\n",
      "Decoder:\n",
      "24x24x256\n",
      "26x26x128\n",
      "28x28x128\n",
      "30x30x64\n",
      "32x32x3 (Output Image)\n",
      "=============\n"
     ]
    },
    {
     "data": {
      "text/plain": [
       "<All keys matched successfully>"
      ]
     },
     "execution_count": 11,
     "metadata": {},
     "output_type": "execute_result"
    }
   ],
   "source": [
    "model = VAE()\n",
    "model.to(device)\n",
    "model.load_state_dict(torch.load(PATH))"
   ]
  },
  {
   "cell_type": "code",
   "execution_count": 12,
   "id": "891e8c7e",
   "metadata": {},
   "outputs": [],
   "source": [
    "\n",
    "def loss_fn(x, recon_x, mu, log_var):\n",
    "#     Recon_loss = F.mse_loss(recon_x.view(-1, 1024), x.view(-1, 1024), reduction = \"sum\")\n",
    "#     Recon_loss = F.mse_loss(recon_x.view(-1, 1024), x.view(-1, 1024)) * 32 * 32\n",
    "#     Recon_loss = F.binary_cross_entropy(recon_x.view(-1, 1024), x.view(-1, 1024)) * 32 * 32 *3\n",
    "#     KLD_loss = 1 + log_var - mu.pow(2) - log_var.exp()\n",
    "#     KLD_loss = torch.sum(KLD_loss)\n",
    "#     KLD_loss *= -0.5\n",
    "#     return torch.mean(Recon_loss + KLD_loss)\n",
    "    Recon_loss = F.mse_loss(recon_x.view(-1, 1024), x.view(-1, 1024), reduction = \"sum\") * 32 * 32 *3\n",
    "    KLD_loss = 0.5 * torch.sum(mu.pow(2) + log_var.exp() - 1 - log_var)\n",
    "    return Recon_loss + KLD_loss\n"
   ]
  },
  {
   "cell_type": "code",
   "execution_count": 13,
   "id": "753dd34b",
   "metadata": {},
   "outputs": [],
   "source": [
    "# model = VAE()\n",
    "# model.to(device)\n",
    "# optimizer = optim.Adam(model.parameters(), lr = 1e-05)\n",
    "# pytorch_total_params = sum(p.numel() for p in model.parameters() if p.requires_grad)\n",
    "# print(f\"Trainable params: {pytorch_total_params}\")"
   ]
  },
  {
   "cell_type": "code",
   "execution_count": 14,
   "id": "a34605c6",
   "metadata": {},
   "outputs": [],
   "source": [
    "# print(model)"
   ]
  },
  {
   "cell_type": "code",
   "execution_count": 15,
   "id": "dae098f1",
   "metadata": {},
   "outputs": [
    {
     "data": {
      "text/plain": [
       "<matplotlib.image.AxesImage at 0x7f37d9a3b520>"
      ]
     },
     "execution_count": 15,
     "metadata": {},
     "output_type": "execute_result"
    },
    {
     "data": {
      "image/png": "[encoded data removed]",
      "text/plain": [
       "<Figure size 432x288 with 1 Axes>"
      ]
     },
     "metadata": {
      "needs_background": "light"
     },
     "output_type": "display_data"
    }
   ],
   "source": [
    "from torch.utils.data import DataLoader\n",
    "\n",
    "dataloaders = {}\n",
    "dataloaders[\"train\"] = DataLoader(dataset=train_data,\n",
    "                                          batch_size=BATCH_SIZE,\n",
    "                                          shuffle=True,\n",
    "                                          drop_last=True)\n",
    "\n",
    "dataloaders[\"test\"] = DataLoader(dataset=test_data,\n",
    "                                          batch_size=BATCH_SIZE,\n",
    "                                          shuffle=True,\n",
    "                                          drop_last=True)\n",
    "\n",
    "dataloaders[\"noise\"] = DataLoader(dataset=noise_set,\n",
    "                                          batch_size=BATCH_SIZE,\n",
    "                                          shuffle=True,\n",
    "                                          drop_last=True)\n",
    "\n",
    "images = next(iter(dataloaders[\"test\"]))\n",
    "plt.imshow(np.transpose(images[0], (1,2,0)))\n"
   ]
  },
  {
   "cell_type": "code",
   "execution_count": 16,
   "id": "a07d0e77",
   "metadata": {
    "scrolled": true
   },
   "outputs": [],
   "source": [
    "# epoch = 2000\n",
    "# train_losses = []\n",
    "# val_losses = []\n",
    "\n",
    "# print(\"Training started!\")\n",
    "\n",
    "# for e in range(1, epoch+1):\n",
    "#     if e == 1800:\n",
    "#         for g in optimizer.param_groups:\n",
    "#             g['lr'] = 1e-06\n",
    "#         print(\"Changed learningrate\")\n",
    "\n",
    "#     train_loss = 0.0\n",
    "#     for x in dataloaders[\"train\"]:\n",
    "#         x = x.to(device)\n",
    "#         x_recon, mu, log_var = model(x)\n",
    "\n",
    "#         optimizer.zero_grad()\n",
    "#         loss = loss_fn(x, x_recon, mu, log_var)\n",
    "#         loss.backward()\n",
    "#         optimizer.step()\n",
    "\n",
    "#         train_loss += loss.item()\n",
    "    \n",
    "#     val_loss = 0.0\n",
    "#     for x in dataloaders[\"test\"]:\n",
    "#         x = x.to(device)\n",
    "#         x_recon, mu, log_var = model(x)\n",
    "\n",
    "#         optimizer.zero_grad()\n",
    "#         loss = loss_fn(x, x_recon, mu, log_var)\n",
    "\n",
    "#         val_loss += loss.item()\n",
    "    \n",
    "#     train_losses.append(train_loss)\n",
    "#     val_losses.append(val_loss)\n",
    "#     train_loss /= len(dataloaders[\"train\"].dataset)\n",
    "#     val_loss /= len(dataloaders[\"test\"].dataset)\n",
    "\n",
    "#     print(f\"Epoch {e} | Loss: {train_loss} | V_Loss: {val_loss}\")\n"
   ]
  },
  {
   "cell_type": "code",
   "execution_count": 17,
   "id": "3ce19c28",
   "metadata": {},
   "outputs": [],
   "source": [
    "\n",
    "# plt.figure(figsize=(10,5))\n",
    "# plt.title(\"Training and Validation Loss\")\n",
    "# plt.plot(val_losses[15:],label=\"val\")\n",
    "# plt.plot(train_losses[15:],label=\"train\")\n",
    "# plt.xlabel(\"iterations\")\n",
    "# plt.ylabel(\"Loss\")\n",
    "# plt.legend()\n",
    "# plt.show()"
   ]
  },
  {
   "cell_type": "code",
   "execution_count": 18,
   "id": "5c000912",
   "metadata": {},
   "outputs": [],
   "source": [
    "def printReconError(img_in, img_out, threshold=None):\n",
    "    img_in = img_in.dot([0.07, 0.72, 0.21])\n",
    "    img_out = img_out.dot([0.07, 0.72, 0.21])\n",
    "    errorMatrix = np.absolute(img_in - img_out)\n",
    "    if not threshold == None:\n",
    "        errorMatrix[errorMatrix < threshold] = 0.0\n",
    "    errorAvg = np.sum(errorMatrix) / (errorMatrix.shape[0] * errorMatrix.shape[1])\n",
    "    print(f\"MAE: {errorAvg}\")\n",
    "    \n",
    "    fig, (ax1, ax2, ax3) = plt.subplots(1, 3, figsize=(15,15))\n",
    "    \n",
    "    ax1.set_title(\"Original\")\n",
    "    ax1.imshow(img_in, cmap=\"gray\")\n",
    "    ax2.set_title(\"Recreation\")\n",
    "    ax2.imshow(img_out, cmap=\"gray\")\n",
    "    ax3.set_title(\"ErrorMap\")\n",
    "    ax3.imshow(errorMatrix, cmap=\"gray\")"
   ]
  },
  {
   "cell_type": "code",
   "execution_count": 19,
   "id": "498a68f6",
   "metadata": {},
   "outputs": [
    {
     "name": "stdout",
     "output_type": "stream",
     "text": [
      "torch.Size([128, 3, 32, 32])\n",
      "float32\n",
      "(32, 32, 3)\n",
      "(32, 32, 3)\n"
     ]
    },
    {
     "data": {
      "image/png": "[encoded data removed]",
      "text/plain": [
       "<Figure size 432x288 with 2 Axes>"
      ]
     },
     "metadata": {
      "needs_background": "light"
     },
     "output_type": "display_data"
    }
   ],
   "source": [
    "import random\n",
    "\n",
    "with torch.no_grad():\n",
    "    for imgs in random.sample(list(dataloaders[\"train\"]), 1):\n",
    "#         imgs, _ = data\n",
    "        imgs = imgs.to(device)\n",
    "        print(imgs.shape)\n",
    "#         img = np.transpose(imgs[0].cpu().numpy(), [1,2,0])\n",
    "        plt.subplot(121)\n",
    "        img = imgs[0].cpu().numpy()\n",
    "        img = np.transpose(img, (1,2,0))\n",
    "        print(img.dtype)\n",
    "        print(img.shape)\n",
    "        plt.imshow(img)\n",
    "        out, mu, logVAR = model(imgs)\n",
    "#         outimg = np.transpose(out[0].cpu().numpy(), [1,2,0])\n",
    "        plt.subplot(122)\n",
    "        out = out[0].cpu().numpy()\n",
    "        out = np.transpose(out, (1,2,0))\n",
    "\n",
    "        print(out.shape)\n",
    "        plt.imshow(out)\n",
    "        break"
   ]
  },
  {
   "cell_type": "code",
   "execution_count": 20,
   "id": "ec80e49d",
   "metadata": {},
   "outputs": [
    {
     "name": "stdout",
     "output_type": "stream",
     "text": [
      "MAE: 0.0029045248855254615\n"
     ]
    },
    {
     "data": {
      "image/png": "[encoded data removed]",
      "text/plain": [
       "<Figure size 1080x1080 with 3 Axes>"
      ]
     },
     "metadata": {
      "needs_background": "light"
     },
     "output_type": "display_data"
    }
   ],
   "source": [
    "import random\n",
    "\n",
    "# model.eval()\n",
    "with torch.no_grad():\n",
    "    for imgs in random.sample(list(dataloaders[\"noise\"]), 1):\n",
    "        imgs = imgs.to(device)\n",
    "#         plt.subplot(121)\n",
    "        img = imgs[0].cpu().numpy()\n",
    "        img = np.transpose(img, (1,2,0))\n",
    "#         plt.imshow(img, cmap=\"gray\")\n",
    "        \n",
    "        out, mu, logVAR = model(imgs)\n",
    "#         plt.subplot(122)\n",
    "        out = out[0].cpu().numpy()\n",
    "        out = np.transpose(out, (1,2,0))\n",
    "#         plt.imshow(out, cmap=\"gray\")\n",
    "        \n",
    "        printReconError(img, out, 0.4)\n",
    "        break"
   ]
  },
  {
   "cell_type": "code",
   "execution_count": 21,
   "id": "235b7ed2",
   "metadata": {},
   "outputs": [
    {
     "data": {
      "text/plain": [
       "(1, 32, 32, 3)"
      ]
     },
     "execution_count": 21,
     "metadata": {},
     "output_type": "execute_result"
    }
   ],
   "source": [
    "tmp = []\n",
    "tmp.append(img)\n",
    "tmp = np.array(tmp)\n",
    "tmp.shape"
   ]
  },
  {
   "cell_type": "code",
   "execution_count": 22,
   "id": "0ae3d183",
   "metadata": {},
   "outputs": [],
   "source": [
    "# torch.save(model.state_dict(), PATH)"
   ]
  },
  {
   "cell_type": "code",
   "execution_count": 23,
   "id": "9f6ac27e",
   "metadata": {},
   "outputs": [
    {
     "data": {
      "text/plain": [
       "4"
      ]
     },
     "execution_count": 23,
     "metadata": {},
     "output_type": "execute_result"
    }
   ],
   "source": [
    "x = int(4.6)\n",
    "x"
   ]
  }
 ],
 "metadata": {
  "kernelspec": {
   "display_name": "VAE_env",
   "language": "python",
   "name": "vae"
  },
  "language_info": {
   "codemirror_mode": {
    "name": "ipython",
    "version": 3
   },
   "file_extension": ".py",
   "mimetype": "text/x-python",
   "name": "python",
   "nbconvert_exporter": "python",
   "pygments_lexer": "ipython3",
   "version": "3.8.10"
  }
 },
 "nbformat": 4,
 "nbformat_minor": 5
}
