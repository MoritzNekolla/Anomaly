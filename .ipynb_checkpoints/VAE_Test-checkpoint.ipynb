{
 "cells": [
  {
   "cell_type": "code",
   "execution_count": 1,
   "id": "c201a7f2",
   "metadata": {},
   "outputs": [],
   "source": [
    "import torch\n",
    "import torch.nn as nn\n",
    "from torchvision import datasets\n",
    "import torchvision.transforms as transforms\n",
    "from torch.utils.data import DataLoader\n",
    "import matplotlib.pyplot as plt\n",
    "import numpy as np\n",
    "from torch.utils.tensorboard import SummaryWriter\n",
    "from clearml import Task\n"
   ]
  },
  {
   "cell_type": "code",
   "execution_count": 2,
   "id": "1a5b296f",
   "metadata": {},
   "outputs": [
    {
     "name": "stdout",
     "output_type": "stream",
     "text": [
      "ClearML Task: created new task id=373cf2b128b447c6a8512b42d57625c4\n",
      "ClearML results page: https://tks-zx.fzi.de:8080/projects/013741c08abc4e298d7346004c9c73dd/experiments/373cf2b128b447c6a8512b42d57625c4/output/log\n"
     ]
    }
   ],
   "source": [
    "task = Task.init(project_name=\"bogdoll/Anomaly_detection_Moritz\", task_name=\"example_run\", reuse_last_task_id=False)\n",
    "task.set_base_docker(\n",
    "            \"tks-zx-01.fzi.de/autonomous-agents/core-carla:21.10\",\n",
    "            docker_setup_bash_script=\"apt-get update && apt-get install -y python3-opencv\",\n",
    "            docker_arguments=\"-e NVIDIA_DRIVER_CAPABILITIES=all\",  # --ipc=host\",\n",
    "        )\n",
    "# PyTorch fix for version 1.10, see https://github.com/pytorch/pytorch/pull/69904\n",
    "# task.add_requirements(\n",
    "#     package_name=\"setuptools\",\n",
    "#     package_version=\"59.5.0\",\n",
    "# )\n",
    "# task.add_requirements(\n",
    "#     package_name=\"moviepy\",\n",
    "#     package_version=\"1.0.3\",\n",
    "# )"
   ]
  },
  {
   "cell_type": "code",
   "execution_count": 3,
   "id": "ba17dee1",
   "metadata": {},
   "outputs": [],
   "source": [
    "mnist_train = datasets.FashionMNIST(root='fashion_data/',\n",
    "                          train=True,\n",
    "                          transform=transforms.ToTensor(),\n",
    "                          download=True)\n",
    "\n",
    "mnist_test = datasets.FashionMNIST(root='fashion_data/',\n",
    "                         train=False,\n",
    "                         transform=transforms.ToTensor(),\n",
    "                         download=True)\n"
   ]
  },
  {
   "cell_type": "code",
   "execution_count": 4,
   "id": "b20b914a",
   "metadata": {},
   "outputs": [
    {
     "name": "stdout",
     "output_type": "stream",
     "text": [
      "2022-05-24 12:19:14,767 - clearml.Task - INFO - No repository found, storing script code instead\n"
     ]
    },
    {
     "name": "stderr",
     "output_type": "stream",
     "text": [
      "/tmp/fzi-is789/ipykernel_1191975/537219179.py:7: FutureWarning:\n",
      "\n",
      "The input object of type 'Tensor' is an array-like implementing one of the corresponding protocols (`__array__`, `__array_interface__` or `__array_struct__`); but not a sequence (or 0-D). In the future, this object will be coerced as if it was first converted using `np.array(obj)`. To retain the old behaviour, you have to either modify the type 'Tensor', or assign to an empty array created with `np.empty(correct_shape, dtype=object)`.\n",
      "\n",
      "/tmp/fzi-is789/ipykernel_1191975/537219179.py:7: VisibleDeprecationWarning:\n",
      "\n",
      "Creating an ndarray from ragged nested sequences (which is a list-or-tuple of lists-or-tuples-or ndarrays with different lengths or shapes) is deprecated. If you meant to do this, you must specify 'dtype=object' when creating the ndarray.\n",
      "\n"
     ]
    }
   ],
   "source": [
    "## exclude label\n",
    "def discardLabels(data):\n",
    "    new_data = []\n",
    "    for img, _ in data:\n",
    "        new_data.append(img)\n",
    "        \n",
    "    return np.array(new_data)\n",
    "\n",
    "mnist_train = discardLabels(mnist_train)\n",
    "mnist_test = discardLabels(mnist_test)"
   ]
  },
  {
   "cell_type": "code",
   "execution_count": 5,
   "id": "ddedd414",
   "metadata": {},
   "outputs": [
    {
     "data": {
      "text/plain": [
       "torch.Size([10000, 1, 28, 28])"
      ]
     },
     "execution_count": 5,
     "metadata": {},
     "output_type": "execute_result"
    }
   ],
   "source": [
    "## apply noise\n",
    "noise_set = []\n",
    "\n",
    "for img in mnist_test:\n",
    "    pic = img.numpy().copy()\n",
    "    pic[:,10:15,:] = 0.0\n",
    "    noise_set.append(pic)\n",
    "\n",
    "noise_set = np.array(noise_set)\n",
    "noise_set = torch.as_tensor(noise_set)\n",
    "noise_set.shape"
   ]
  },
  {
   "cell_type": "code",
   "execution_count": 6,
   "id": "bd4cee25",
   "metadata": {},
   "outputs": [
    {
     "data": {
      "text/plain": [
       "<matplotlib.image.AxesImage at 0x7fdcbb2013a0>"
      ]
     },
     "execution_count": 6,
     "metadata": {},
     "output_type": "execute_result"
    },
    {
     "data": {
      "image/png": "[encoded data removed]",
      "text/plain": [
       "<Figure size 432x288 with 1 Axes>"
      ]
     },
     "metadata": {
      "needs_background": "light"
     },
     "output_type": "display_data"
    }
   ],
   "source": [
    "## show noisy image\n",
    "\n",
    "img = noise_set[10]\n",
    "img = img.squeeze()\n",
    "img = img.numpy()\n",
    "plt.imshow(img, cmap=\"gray\")"
   ]
  },
  {
   "cell_type": "code",
   "execution_count": 7,
   "id": "8c07f4a4",
   "metadata": {},
   "outputs": [
    {
     "name": "stdout",
     "output_type": "stream",
     "text": [
      "torch.Size([28, 28])\n"
     ]
    },
    {
     "data": {
      "text/plain": [
       "<matplotlib.image.AxesImage at 0x7fdcc705be20>"
      ]
     },
     "execution_count": 7,
     "metadata": {},
     "output_type": "execute_result"
    },
    {
     "data": {
      "image/png": "[encoded data removed]",
      "text/plain": [
       "<Figure size 432x288 with 1 Axes>"
      ]
     },
     "metadata": {
      "needs_background": "light"
     },
     "output_type": "display_data"
    }
   ],
   "source": [
    "img = mnist_test[1]\n",
    "img = img.squeeze()\n",
    "print(img.shape)\n",
    "plt.imshow(img.squeeze(), cmap=\"gray\")"
   ]
  },
  {
   "cell_type": "code",
   "execution_count": 8,
   "id": "d7ddb5c0",
   "metadata": {},
   "outputs": [
    {
     "name": "stdout",
     "output_type": "stream",
     "text": [
      "cuda\n"
     ]
    }
   ],
   "source": [
    "BATCH_SIZE = 64\n",
    "device = torch.device(\"cuda\" if torch.cuda.is_available() else \"cpu\")\n",
    "print(device)\n"
   ]
  },
  {
   "cell_type": "code",
   "execution_count": 9,
   "id": "f82e994d",
   "metadata": {},
   "outputs": [],
   "source": [
    "from torch.utils.data import DataLoader\n",
    "\n",
    "dataloaders = {}\n",
    "dataloaders[\"train\"] = DataLoader(dataset=mnist_train,\n",
    "                                          batch_size=BATCH_SIZE,\n",
    "                                          shuffle=True,\n",
    "                                          drop_last=True)\n",
    "\n",
    "dataloaders[\"test\"] = DataLoader(dataset=mnist_test,\n",
    "                                          batch_size=BATCH_SIZE,\n",
    "                                          shuffle=True,\n",
    "                                          drop_last=True)\n",
    "\n",
    "dataloaders[\"noise\"] = DataLoader(dataset=noise_set,\n",
    "                                          batch_size=BATCH_SIZE,\n",
    "                                          shuffle=True,\n",
    "                                          drop_last=True)\n"
   ]
  },
  {
   "cell_type": "code",
   "execution_count": 10,
   "id": "21e4019b",
   "metadata": {},
   "outputs": [
    {
     "data": {
      "text/plain": [
       "<matplotlib.image.AxesImage at 0x7fdcc6f83040>"
      ]
     },
     "execution_count": 10,
     "metadata": {},
     "output_type": "execute_result"
    },
    {
     "data": {
      "image/png": "[encoded data removed]",
      "text/plain": [
       "<Figure size 432x288 with 1 Axes>"
      ]
     },
     "metadata": {
      "needs_background": "light"
     },
     "output_type": "display_data"
    }
   ],
   "source": [
    "images = next(iter(dataloaders[\"test\"]))\n",
    "plt.imshow(images[0].squeeze())"
   ]
  },
  {
   "cell_type": "code",
   "execution_count": 11,
   "id": "67d28fd0",
   "metadata": {},
   "outputs": [],
   "source": [
    "class VAE(nn.Module):\n",
    "    def __init__(self, imgChannels=1, featureDim=128*20*20, zDim=20):\n",
    "        super(VAE, self).__init__()\n",
    "\n",
    "        # Initializing the 2 convolutional layers and 2 full-connected layers for the encoder\n",
    "        self.encConv1 = nn.Conv2d(imgChannels, 16, 3)\n",
    "        self.encConv2 = nn.Conv2d(16, 32, 3)\n",
    "        self.encConv3 = nn.Conv2d(32, 64, 3)\n",
    "        self.encConv4 = nn.Conv2d(64, 128, 3)\n",
    "#         self.encConv5 = nn.Conv2d(128, 256, 3)\n",
    "#         self.encConv6 = nn.Conv2d(256, 512, 3)\n",
    "        self.encFC1 = nn.Linear(featureDim, zDim)\n",
    "        self.encFC2 = nn.Linear(featureDim, zDim)\n",
    "\n",
    "        # Initializing the fully-connected layer and 2 convolutional layers for decoder\n",
    "        self.decFC1 = nn.Linear(zDim, featureDim)\n",
    "#         self.decConv1 = nn.ConvTranspose2d(512, 256, 5)\n",
    "#         self.decConv2 = nn.ConvTranspose2d(256, 128, 3)\n",
    "        self.decConv3 = nn.ConvTranspose2d(128, 64, 3)\n",
    "        self.decConv4 = nn.ConvTranspose2d(64, 32, 3)\n",
    "        self.decConv5 = nn.ConvTranspose2d(32, 16, 3)\n",
    "        self.decConv6 = nn.ConvTranspose2d(16, imgChannels, 3)\n",
    "        \n",
    "        self.flatten = 0\n",
    "\n",
    "    def encoder(self, x):\n",
    "\n",
    "        # Input is fed into 2 convolutional layers sequentially\n",
    "        # The output feature map are fed into 2 fully-connected layers to predict mean (mu) and variance (logVar)\n",
    "        # Mu and logVar are used for generating middle representation z and KL divergence loss\n",
    "        x = F.relu(self.encConv1(x))\n",
    "#         print(x.size())\n",
    "        x = F.relu(self.encConv2(x))\n",
    "#         print(x.size())\n",
    "        x = F.relu(self.encConv3(x))\n",
    "#         print(x.size())\n",
    "        x = F.relu(self.encConv4(x))\n",
    "#         print(x.size())\n",
    "#         x = F.relu(self.encConv5(x))\n",
    "#         print(x.size())\n",
    "# #         x = F.relu(self.encConv6(x))\n",
    "#         print(x.size())\n",
    "        self.flatten = x.size(1) * x.size(2) * x.size(3)\n",
    "#         print(self.flatten)\n",
    "        x = x.view(-1, self.flatten)\n",
    "        mu = self.encFC1(x)\n",
    "        logVar = self.encFC2(x)\n",
    "        return mu, logVar\n",
    "\n",
    "    def reparameterize(self, mu, logVar):\n",
    "\n",
    "        #Reparameterization takes in the input mu and logVar and sample the mu + std * eps\n",
    "        std = torch.exp(logVar/2)\n",
    "        eps = torch.randn_like(std)\n",
    "        return mu + std * eps\n",
    "\n",
    "    def decoder(self, z):\n",
    "\n",
    "        # z is fed back into a fully-connected layers and then into two transpose convolutional layers\n",
    "        # The generated output is the same size of the original input\n",
    "        x = F.relu(self.decFC1(z))\n",
    "        x = x.view(-1, 128, 20, 20)\n",
    "#         x = F.relu(self.decConv1(x))\n",
    "#         x = F.relu(self.decConv2(x))\n",
    "        x = F.relu(self.decConv3(x))\n",
    "        x = F.relu(self.decConv4(x))\n",
    "        x = F.relu(self.decConv5(x))\n",
    "        x = torch.sigmoid(self.decConv6(x))\n",
    "        return x\n",
    "\n",
    "    def forward(self, x):\n",
    "\n",
    "        # The entire pipeline of the VAE: encoder -> reparameterization -> decoder\n",
    "        # output, mu, and logVar are returned for loss computation\n",
    "        mu, logVar = self.encoder(x)\n",
    "        z = self.reparameterize(mu, logVar)\n",
    "        out = self.decoder(z)\n",
    "        return out, mu, logVar"
   ]
  },
  {
   "cell_type": "code",
   "execution_count": 12,
   "id": "185297f4",
   "metadata": {},
   "outputs": [],
   "source": [
    "from torch import optim\n",
    "import torch.nn.functional as  F\n",
    "def loss_fn(x, recon_x, mu, log_var):\n",
    "    Recon_loss = F.mse_loss(recon_x.view(-1, 784), x.view(-1, 784), reduction = \"sum\")\n",
    "    KLD_loss = 0.5 * torch.sum(mu.pow(2) + log_var.exp() - 1 - log_var)\n",
    "    return Recon_loss + KLD_loss\n",
    "\n",
    "\n",
    "model = VAE()\n",
    "model.to(device)\n",
    "optimizer = optim.Adam(model.parameters(), lr = 1e-03)\n"
   ]
  },
  {
   "cell_type": "code",
   "execution_count": 13,
   "id": "c7ce6fb3",
   "metadata": {},
   "outputs": [
    {
     "name": "stdout",
     "output_type": "stream",
     "text": [
      "VAE(\n",
      "  (encConv1): Conv2d(1, 16, kernel_size=(3, 3), stride=(1, 1))\n",
      "  (encConv2): Conv2d(16, 32, kernel_size=(3, 3), stride=(1, 1))\n",
      "  (encConv3): Conv2d(32, 64, kernel_size=(3, 3), stride=(1, 1))\n",
      "  (encConv4): Conv2d(64, 128, kernel_size=(3, 3), stride=(1, 1))\n",
      "  (encFC1): Linear(in_features=51200, out_features=20, bias=True)\n",
      "  (encFC2): Linear(in_features=51200, out_features=20, bias=True)\n",
      "  (decFC1): Linear(in_features=20, out_features=51200, bias=True)\n",
      "  (decConv3): ConvTranspose2d(128, 64, kernel_size=(3, 3), stride=(1, 1))\n",
      "  (decConv4): ConvTranspose2d(64, 32, kernel_size=(3, 3), stride=(1, 1))\n",
      "  (decConv5): ConvTranspose2d(32, 16, kernel_size=(3, 3), stride=(1, 1))\n",
      "  (decConv6): ConvTranspose2d(16, 1, kernel_size=(3, 3), stride=(1, 1))\n",
      ")\n"
     ]
    }
   ],
   "source": [
    "print(model)"
   ]
  },
  {
   "cell_type": "code",
   "execution_count": null,
   "id": "7bfa7fb5",
   "metadata": {},
   "outputs": [
    {
     "name": "stdout",
     "output_type": "stream",
     "text": [
      "2022-05-24 12:19:30,830 - clearml - WARNING - Switching to remote execution, output log page https://tks-zx.fzi.de:8080/projects/013741c08abc4e298d7346004c9c73dd/experiments/373cf2b128b447c6a8512b42d57625c4/output/log\n"
     ]
    }
   ],
   "source": [
    "epoch = 30\n",
    "train_losses = []\n",
    "val_losses = []\n",
    "\n",
    "\n",
    "for e in range(1, epoch+1):\n",
    "    if epoch > 1:\n",
    "        task.execute_remotely('docker', clone=False, exit_process=True)\n",
    "\n",
    "    train_loss = 0.0\n",
    "    for x in dataloaders[\"train\"]:\n",
    "        x = x.to(device)\n",
    "        x_recon, mu, log_var = model(x)\n",
    "\n",
    "        optimizer.zero_grad()\n",
    "        loss = loss_fn(x, x_recon, mu, log_var)\n",
    "        loss.backward()\n",
    "        optimizer.step()\n",
    "\n",
    "        train_loss += loss.item()\n",
    "    \n",
    "    val_loss = 0.0\n",
    "    for x in dataloaders[\"test\"]:\n",
    "        x = x.to(device)\n",
    "        x_recon, mu, log_var = model(x)\n",
    "\n",
    "        optimizer.zero_grad()\n",
    "        loss = loss_fn(x, x_recon, mu, log_var)\n",
    "\n",
    "        val_loss += loss.item()\n",
    "    \n",
    "    train_losses.append(train_loss)\n",
    "    val_losses.append(val_loss)\n",
    "    train_loss /= len(dataloaders[\"train\"].dataset)\n",
    "    val_loss /= len(dataloaders[\"test\"].dataset)\n",
    "\n",
    "    print(f\"Epoch {e} | Loss: {train_loss} | V_Loss: {val_loss}\")\n"
   ]
  },
  {
   "cell_type": "code",
   "execution_count": null,
   "id": "99a281d8",
   "metadata": {},
   "outputs": [],
   "source": [
    "\n",
    "plt.figure(figsize=(10,5))\n",
    "plt.title(\"Training and Validation Loss\")\n",
    "plt.plot(val_losses,label=\"val\")\n",
    "plt.plot(train_losses,label=\"train\")\n",
    "plt.xlabel(\"iterations\")\n",
    "plt.ylabel(\"Loss\")\n",
    "plt.legend()\n",
    "plt.show()"
   ]
  },
  {
   "cell_type": "code",
   "execution_count": null,
   "id": "7348c5d4",
   "metadata": {},
   "outputs": [],
   "source": [
    "def printReconError(img_in, img_out, threshold=None):\n",
    "    errorMatrix = np.absolute(img_in - img_out)\n",
    "    if not threshold == None:\n",
    "        errorMatrix[errorMatrix < threshold] = 0.0\n",
    "    errorAvg = np.sum(errorMatrix) / (errorMatrix.shape[0] * errorMatrix.shape[1])\n",
    "    print(f\"MAE: {errorAvg}\")\n",
    "    \n",
    "    fig, (ax1, ax2, ax3) = plt.subplots(1, 3, figsize=(15,15))\n",
    "    \n",
    "    ax1.set_title(\"Original\")\n",
    "    ax1.imshow(img_in, cmap=\"gray\")\n",
    "    ax2.set_title(\"Recreation\")\n",
    "    ax2.imshow(img_out, cmap=\"gray\")\n",
    "    ax3.set_title(\"ErrorMap\")\n",
    "    ax3.imshow(errorMatrix, cmap=\"gray\")"
   ]
  },
  {
   "cell_type": "code",
   "execution_count": null,
   "id": "4c7b82ee",
   "metadata": {},
   "outputs": [],
   "source": [
    "import random\n",
    "\n",
    "model.eval()\n",
    "with torch.no_grad():\n",
    "    for imgs in random.sample(list(dataloaders[\"noise\"]), 1):\n",
    "        imgs = imgs.to(device)\n",
    "#         plt.subplot(121)\n",
    "        img = imgs[0].cpu().numpy()\n",
    "        img = np.transpose(img, (1,2,0))\n",
    "#         plt.imshow(img, cmap=\"gray\")\n",
    "        \n",
    "        out, mu, logVAR = model(imgs)\n",
    "#         plt.subplot(122)\n",
    "        out = out[0].cpu().numpy()\n",
    "        out = np.transpose(out, (1,2,0))\n",
    "#         plt.imshow(out, cmap=\"gray\")\n",
    "        \n",
    "        printReconError(img, out, 0.4)\n",
    "        break"
   ]
  },
  {
   "cell_type": "code",
   "execution_count": null,
   "id": "35169083",
   "metadata": {},
   "outputs": [],
   "source": [
    "tmp = []\n",
    "tmp.append(img)\n",
    "tmp = np.array(tmp)\n",
    "tmp.shape"
   ]
  },
  {
   "cell_type": "code",
   "execution_count": null,
   "id": "ad867d1d",
   "metadata": {},
   "outputs": [],
   "source": [
    "import random\n",
    "\n",
    "model.eval()\n",
    "with torch.no_grad():\n",
    "    for imgs in random.sample(list(dataloaders[\"test\"]), 1):\n",
    "#         imgs, _ = data\n",
    "        imgs = imgs.to(device)\n",
    "        print(imgs.shape)\n",
    "#         img = np.transpose(imgs[0].cpu().numpy(), [1,2,0])\n",
    "        plt.subplot(121)\n",
    "        img = imgs[0].cpu().numpy()\n",
    "        img = np.transpose(img, (1,2,0))\n",
    "        print(img.dtype)\n",
    "        print(img.shape)\n",
    "        plt.imshow(img, cmap=\"gray\")\n",
    "        out, mu, logVAR = model(imgs)\n",
    "#         outimg = np.transpose(out[0].cpu().numpy(), [1,2,0])\n",
    "        plt.subplot(122)\n",
    "        out = out[0].cpu().numpy()\n",
    "        out = np.transpose(out, (1,2,0))\n",
    "        print(out.shape)\n",
    "        plt.imshow(out, cmap=\"gray\")\n",
    "        break"
   ]
  },
  {
   "cell_type": "code",
   "execution_count": null,
   "id": "b513a15c",
   "metadata": {},
   "outputs": [],
   "source": []
  },
  {
   "cell_type": "code",
   "execution_count": null,
   "id": "0ba07316",
   "metadata": {},
   "outputs": [],
   "source": []
  }
 ],
 "metadata": {
  "kernelspec": {
   "display_name": "Anomaly",
   "language": "python",
   "name": "anomaly"
  },
  "language_info": {
   "codemirror_mode": {
    "name": "ipython",
    "version": 3
   },
   "file_extension": ".py",
   "mimetype": "text/x-python",
   "name": "python",
   "nbconvert_exporter": "python",
   "pygments_lexer": "ipython3",
   "version": "3.8.10"
  }
 },
 "nbformat": 4,
 "nbformat_minor": 5
}
