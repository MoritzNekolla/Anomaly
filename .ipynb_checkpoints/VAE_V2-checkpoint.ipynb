{
 "cells": [
  {
   "cell_type": "code",
   "execution_count": 1,
   "id": "94c562d6",
   "metadata": {},
   "outputs": [],
   "source": [
    "import torch\n",
    "import torch.nn as nn\n",
    "from torchvision import datasets\n",
    "import torchvision.transforms as transforms\n",
    "from torch.utils.data import DataLoader\n",
    "import matplotlib.pyplot as plt\n",
    "import numpy as np\n",
    "from torch import optim\n",
    "import torch.nn.functional as  F\n",
    "\n",
    "PATH = \"/disk/vanishing_data/is789/models/ciffar10.pt\""
   ]
  },
  {
   "cell_type": "code",
   "execution_count": 2,
   "id": "82c39fd6",
   "metadata": {},
   "outputs": [
    {
     "name": "stdout",
     "output_type": "stream",
     "text": [
      "Files already downloaded and verified\n",
      "Files already downloaded and verified\n"
     ]
    }
   ],
   "source": [
    "train_data = datasets.CIFAR10(root='/disk/vanishing_data/is789/datasets/',\n",
    "                          train=True,\n",
    "                          transform=transforms.ToTensor(),\n",
    "                          download=True)\n",
    "\n",
    "test_data = datasets.CIFAR10(root='/disk/vanishing_data/is789/datasets/',\n",
    "                          train=False,\n",
    "                          transform=transforms.ToTensor(),\n",
    "                          download=True)\n"
   ]
  },
  {
   "cell_type": "code",
   "execution_count": 3,
   "id": "47f51183",
   "metadata": {},
   "outputs": [
    {
     "name": "stderr",
     "output_type": "stream",
     "text": [
      "/tmp/fzi-is789/ipykernel_363295/1050726390.py:12: FutureWarning: The input object of type 'Tensor' is an array-like implementing one of the corresponding protocols (`__array__`, `__array_interface__` or `__array_struct__`); but not a sequence (or 0-D). In the future, this object will be coerced as if it was first converted using `np.array(obj)`. To retain the old behaviour, you have to either modify the type 'Tensor', or assign to an empty array created with `np.empty(correct_shape, dtype=object)`.\n",
      "  return np.array(new_data)\n",
      "/tmp/fzi-is789/ipykernel_363295/1050726390.py:12: VisibleDeprecationWarning: Creating an ndarray from ragged nested sequences (which is a list-or-tuple of lists-or-tuples-or ndarrays with different lengths or shapes) is deprecated. If you meant to do this, you must specify 'dtype=object' when creating the ndarray.\n",
      "  return np.array(new_data)\n"
     ]
    }
   ],
   "source": [
    "## exclude label\n",
    "## only take some categories\n",
    "def discardLabels(data, size=3):\n",
    "    new_data = []\n",
    "    for img, tag in data:\n",
    "#         img = img.numpy()\n",
    "#         img = np.transpose(img, (1,2,0))\n",
    "        if tag < size:\n",
    "            new_data.append(img)\n",
    "        \n",
    "        \n",
    "    return np.array(new_data)\n",
    "\n",
    "train_data = discardLabels(train_data, 10)\n",
    "test_data = discardLabels(test_data, 10)"
   ]
  },
  {
   "cell_type": "code",
   "execution_count": 4,
   "id": "3c050c86",
   "metadata": {},
   "outputs": [
    {
     "data": {
      "text/plain": [
       "5000"
      ]
     },
     "execution_count": 4,
     "metadata": {},
     "output_type": "execute_result"
    }
   ],
   "source": [
    "len(train_data)"
   ]
  },
  {
   "cell_type": "code",
   "execution_count": 5,
   "id": "6e647ae4",
   "metadata": {},
   "outputs": [
    {
     "data": {
      "text/plain": [
       "<matplotlib.image.AxesImage at 0x7fc5920ac5b0>"
      ]
     },
     "execution_count": 5,
     "metadata": {},
     "output_type": "execute_result"
    },
    {
     "data": {
      "image/png": "[encoded data removed]",
      "text/plain": [
       "<Figure size 432x288 with 1 Axes>"
      ]
     },
     "metadata": {
      "needs_background": "light"
     },
     "output_type": "display_data"
    }
   ],
   "source": [
    "img = train_data[11]\n",
    "img = img.numpy()\n",
    "img = np.transpose(img, (1,2,0))\n",
    "plt.imshow(img)"
   ]
  },
  {
   "cell_type": "code",
   "execution_count": 6,
   "id": "d5d98113",
   "metadata": {},
   "outputs": [
    {
     "data": {
      "text/plain": [
       "<matplotlib.image.AxesImage at 0x7fc58ff95520>"
      ]
     },
     "execution_count": 6,
     "metadata": {},
     "output_type": "execute_result"
    },
    {
     "data": {
      "image/png": "[encoded data removed]",
      "text/plain": [
       "<Figure size 432x288 with 1 Axes>"
      ]
     },
     "metadata": {
      "needs_background": "light"
     },
     "output_type": "display_data"
    }
   ],
   "source": [
    "img = test_data[10]\n",
    "img = img.numpy()\n",
    "img = np.transpose(img, (1,2,0))\n",
    "plt.imshow(img)"
   ]
  },
  {
   "cell_type": "code",
   "execution_count": 7,
   "id": "c51232e9",
   "metadata": {},
   "outputs": [
    {
     "data": {
      "text/plain": [
       "torch.Size([1000, 3, 32, 32])"
      ]
     },
     "execution_count": 7,
     "metadata": {},
     "output_type": "execute_result"
    }
   ],
   "source": [
    "## apply noise\n",
    "noise_set = []\n",
    "\n",
    "for img in test_data:\n",
    "    pic = img.numpy().copy()\n",
    "    pic[:,10:15,:] = 0.0\n",
    "    noise_set.append(pic)\n",
    "\n",
    "noise_set = np.array(noise_set)\n",
    "noise_set = torch.as_tensor(noise_set)\n",
    "noise_set.shape"
   ]
  },
  {
   "cell_type": "code",
   "execution_count": 8,
   "id": "28d7a4b4",
   "metadata": {},
   "outputs": [
    {
     "data": {
      "text/plain": [
       "<matplotlib.image.AxesImage at 0x7fc58ff7cd00>"
      ]
     },
     "execution_count": 8,
     "metadata": {},
     "output_type": "execute_result"
    },
    {
     "data": {
      "image/png": "[encoded data removed]",
      "text/plain": [
       "<Figure size 432x288 with 1 Axes>"
      ]
     },
     "metadata": {
      "needs_background": "light"
     },
     "output_type": "display_data"
    }
   ],
   "source": [
    "## show noisy image\n",
    "\n",
    "img = noise_set[10]\n",
    "# img = img.squeeze()\n",
    "img = img.numpy()\n",
    "img = np.transpose(img, (1,2,0))\n",
    "plt.imshow(img)"
   ]
  },
  {
   "cell_type": "code",
   "execution_count": 9,
   "id": "746b689b",
   "metadata": {},
   "outputs": [
    {
     "name": "stdout",
     "output_type": "stream",
     "text": [
      "cuda\n"
     ]
    }
   ],
   "source": [
    "BATCH_SIZE = 32\n",
    "device = torch.device(\"cuda\" if torch.cuda.is_available() else \"cpu\")\n",
    "print(device)\n"
   ]
  },
  {
   "cell_type": "code",
   "execution_count": 10,
   "id": "2e97bfd3",
   "metadata": {},
   "outputs": [
    {
     "data": {
      "text/plain": [
       "4"
      ]
     },
     "execution_count": 10,
     "metadata": {},
     "output_type": "execute_result"
    }
   ],
   "source": [
    "x = int(4.6)\n",
    "x"
   ]
  },
  {
   "cell_type": "code",
   "execution_count": 11,
   "id": "c61537df",
   "metadata": {},
   "outputs": [],
   "source": [
    "BATCH_SIZE = 128\n",
    "class VAE(nn.Module):\n",
    "    \n",
    "    def __init__(self, imgChannels=3, imgSize=32, zDim=1024):\n",
    "        super(VAE, self).__init__()\n",
    "        \n",
    "        stride=1\n",
    "        padding=0\n",
    "        kernel=3\n",
    "        layers=[64, 128, 128, 256]\n",
    "\n",
    "        # Initializing the 2 convolutional layers and 2 full-connected layers for the encoder\n",
    "        self.encConv1 = nn.Conv2d(in_channels=imgChannels, out_channels=layers[0], kernel_size=kernel, stride=stride)\n",
    "        self.encBn1 = nn.BatchNorm2d(layers[0])\n",
    "        self.encConv2 = nn.Conv2d(in_channels=layers[0], out_channels=layers[1], kernel_size=kernel, stride=stride)\n",
    "        self.encBn2 = nn.BatchNorm2d(layers[1])\n",
    "        self.encConv3 = nn.Conv2d(in_channels=layers[1], out_channels=layers[2], kernel_size=kernel, stride=stride)\n",
    "        self.encBn3 = nn.BatchNorm2d(layers[2])\n",
    "        self.encConv4 = nn.Conv2d(in_channels=layers[2], out_channels=layers[3], kernel_size=kernel, stride=stride)\n",
    "        self.encBn4 = nn.BatchNorm2d(layers[3])\n",
    "        \n",
    "        encoderDims = self.calcEncoderDims(len(layers), imgSize, kernel, padding, stride)\n",
    "        featureDim = layers[-1] * encoderDims[-1] * encoderDims[-1]\n",
    "        self.encFC1 = nn.Linear(featureDim, zDim)\n",
    "        self.encFC2 = nn.Linear(featureDim, zDim)\n",
    "\n",
    "        # Initializing the fully-connected layer and 2 convolutional layers for decoder\n",
    "        self.decFC1 = nn.Linear(zDim, featureDim)\n",
    "        self.decBn1 = nn.BatchNorm1d(featureDim)\n",
    "        self.decConv1 = nn.ConvTranspose2d(in_channels=layers[3], out_channels=layers[2], kernel_size=kernel, stride=stride)\n",
    "        self.decBn2 = nn.BatchNorm2d(layers[2])\n",
    "        self.decConv2 = nn.ConvTranspose2d(in_channels=layers[2], out_channels=layers[1], kernel_size=kernel, stride=stride)\n",
    "        self.decBn3 = nn.BatchNorm2d(layers[1])\n",
    "        self.decConv3 = nn.ConvTranspose2d(in_channels=layers[1], out_channels=layers[0], kernel_size=kernel, stride=stride)\n",
    "        self.decBn4 = nn.BatchNorm2d(layers[0])\n",
    "        self.decConv4 = nn.ConvTranspose2d(layers[0], imgChannels, kernel_size=3, stride=1)\n",
    "        \n",
    "        self.final_encoder_dim = None\n",
    "        \n",
    "        decoderDims = self.calcDecoderDims(len(layers), encoderDims[-1], kernel, padding, stride)\n",
    "        self.printModel(layers, encoderDims, decoderDims, imgSize, imgChannels)\n",
    "\n",
    "    def calcEncoderDims(self, layer_size, imageSize, kernel, padding, stride):\n",
    "        newDims = [imageSize]\n",
    "        for x in range(layer_size):\n",
    "            tmpSize = int((newDims[-1]-kernel+2*padding)/stride)+1\n",
    "            newDims.append(tmpSize)\n",
    "        newDims.pop(0)\n",
    "        return newDims\n",
    "    \n",
    "    def calcDecoderDims(self, layer_size, imageSize, kernel, padding, stride, d=1):\n",
    "        newDims = [imageSize]\n",
    "        for x in range(layer_size):\n",
    "            tmpSize = (newDims[-1] - 1)*stride - 2*padding + d*(kernel - 1) + padding + 1\n",
    "            newDims.append(tmpSize)\n",
    "#         newDims.pop(0)\n",
    "        return newDims\n",
    "    \n",
    "    \n",
    "    def printModel(self, layers, encDims, decDims, imageSize, imgChannels):\n",
    "        print(\"=============\")\n",
    "        print(\"Image Flow:\")\n",
    "        print(\"Encoder:\")\n",
    "        print(f\"{imageSize}x{imageSize}x{imgChannels} (Input Image)\")\n",
    "        for x in range(len(layers)):\n",
    "            print(f\"{encDims[x]}x{encDims[x]}x{layers[x]}\")\n",
    "        \n",
    "        print(\"Decoder:\")\n",
    "        k = len(layers) - 1\n",
    "        for x in range(len(layers)):\n",
    "            print(f\"{decDims[x]}x{decDims[x]}x{layers[k]}\")\n",
    "            k = k - 1\n",
    "        print(f\"{decDims[-1]}x{decDims[-1]}x{imgChannels} (Output Image)\")\n",
    "        print(\"=============\")\n",
    "            \n",
    "        \n",
    "    def encoder(self, x):\n",
    "\n",
    "        x = F.relu(self.encConv1(x))\n",
    "        x = self.encBn1(x)\n",
    "#         print(x.size())\n",
    "        x = F.relu(self.encConv2(x))\n",
    "        x = self.encBn2(x)\n",
    "#         print(x.size())\n",
    "        x = F.relu(self.encConv3(x))\n",
    "        x = self.encBn3(x)\n",
    "#         print(x.size())\n",
    "        x = F.relu(self.encConv4(x))\n",
    "        x = self.encBn4(x)\n",
    "#         print(x.size())\n",
    "        self.final_encoder_dim = np.array([x.size(1), x.size(2), x.size(3)])\n",
    "        flatten = np.prod(self.final_encoder_dim)\n",
    "\n",
    "        x = x.view(-1, flatten)\n",
    "        mu = self.encFC1(x)\n",
    "        logVar = self.encFC2(x)\n",
    "        return mu, logVar\n",
    "\n",
    "    def reparameterize(self, mu, logVar):\n",
    "\n",
    "        #Reparameterization takes in the input mu and logVar and sample the mu + std * eps\n",
    "        std = torch.exp(logVar/2)\n",
    "        eps = torch.randn_like(std)\n",
    "        return mu + std * eps\n",
    "\n",
    "    def decoder(self, z):\n",
    "\n",
    "        # z is fed back into a fully-connected layers and then into two transpose convolutional layers\n",
    "        # The generated output is the same size of the original input\n",
    "        x = F.relu(self.decFC1(z))\n",
    "        x = self.decBn1(x)\n",
    "        x = x.view(-1, self.final_encoder_dim[0], self.final_encoder_dim[1], self.final_encoder_dim[2])\n",
    "        x = F.relu(self.decConv1(x))\n",
    "        x = self.decBn2(x)\n",
    "        x = F.relu(self.decConv2(x))\n",
    "        x = self.decBn3(x)\n",
    "        x = F.relu(self.decConv3(x))\n",
    "        x = self.decBn4(x)\n",
    "        x = torch.sigmoid(self.decConv4(x))\n",
    "        return x\n",
    "\n",
    "    def forward(self, x):\n",
    "\n",
    "        # The entire pipeline of the VAE: encoder -> reparameterization -> decoder\n",
    "        # output, mu, and logVar are returned for loss computation\n",
    "        mu, logVar = self.encoder(x)\n",
    "        z = self.reparameterize(mu, logVar)\n",
    "        out = self.decoder(z)\n",
    "        return out, mu, logVar"
   ]
  },
  {
   "cell_type": "code",
   "execution_count": 19,
   "id": "535b61db",
   "metadata": {},
   "outputs": [
    {
     "name": "stdout",
     "output_type": "stream",
     "text": [
      "=============\n",
      "Image Flow:\n",
      "Encoder:\n",
      "32x32x3 (Input Image)\n",
      "30x30x64\n",
      "28x28x128\n",
      "26x26x128\n",
      "24x24x256\n",
      "Decoder:\n",
      "24x24x256\n",
      "26x26x128\n",
      "28x28x128\n",
      "30x30x64\n",
      "32x32x3 (Output Image)\n",
      "=============\n"
     ]
    },
    {
     "data": {
      "text/plain": [
       "<All keys matched successfully>"
      ]
     },
     "execution_count": 19,
     "metadata": {},
     "output_type": "execute_result"
    }
   ],
   "source": [
    "# model = VAE()\n",
    "# model.to(device)\n",
    "# model.load_state_dict(torch.load(PATH))"
   ]
  },
  {
   "cell_type": "code",
   "execution_count": 13,
   "id": "891e8c7e",
   "metadata": {},
   "outputs": [],
   "source": [
    "\n",
    "def loss_fn(x, recon_x, mu, log_var):\n",
    "#     Recon_loss = F.mse_loss(recon_x.view(-1, 1024), x.view(-1, 1024), reduction = \"sum\")\n",
    "#     Recon_loss = F.mse_loss(recon_x.view(-1, 1024), x.view(-1, 1024)) * 32 * 32\n",
    "#     Recon_loss = F.binary_cross_entropy(recon_x.view(-1, 1024), x.view(-1, 1024)) * 32 * 32 *3\n",
    "#     KLD_loss = 1 + log_var - mu.pow(2) - log_var.exp()\n",
    "#     KLD_loss = torch.sum(KLD_loss)\n",
    "#     KLD_loss *= -0.5\n",
    "#     return torch.mean(Recon_loss + KLD_loss)\n",
    "    Recon_loss = F.mse_loss(recon_x.view(-1, 1024), x.view(-1, 1024), reduction = \"sum\") * 32 * 32 *3\n",
    "    KLD_loss = 0.5 * torch.sum(mu.pow(2) + log_var.exp() - 1 - log_var)\n",
    "    return Recon_loss + KLD_loss\n"
   ]
  },
  {
   "cell_type": "code",
   "execution_count": 14,
   "id": "a0c435e6",
   "metadata": {},
   "outputs": [],
   "source": [
    "model = VAE()\n",
    "model.to(device)\n",
    "optimizer = optim.Adam(model.parameters(), lr = 1e-05)\n",
    "pytorch_total_params = sum(p.numel() for p in model.parameters() if p.requires_grad)\n",
    "print(f\"Trainable params: {pytorch_total_params}\")"
   ]
  },
  {
   "cell_type": "code",
   "execution_count": 15,
   "id": "a34605c6",
   "metadata": {},
   "outputs": [],
   "source": [
    "# print(model)"
   ]
  },
  {
   "cell_type": "code",
   "execution_count": 16,
   "id": "dae098f1",
   "metadata": {},
   "outputs": [
    {
     "name": "stdout",
     "output_type": "stream",
     "text": [
      "cuda\n"
     ]
    },
    {
     "data": {
      "text/plain": [
       "<matplotlib.image.AxesImage at 0x7fc58969dac0>"
      ]
     },
     "execution_count": 16,
     "metadata": {},
     "output_type": "execute_result"
    },
    {
     "data": {
      "image/png": "[encoded data removed]",
      "text/plain": [
       "<Figure size 432x288 with 1 Axes>"
      ]
     },
     "metadata": {
      "needs_background": "light"
     },
     "output_type": "display_data"
    }
   ],
   "source": [
    "device = torch.device(\"cuda\" if torch.cuda.is_available() else \"cpu\")\n",
    "print(device)\n",
    "\n",
    "from torch.utils.data import DataLoader\n",
    "\n",
    "dataloaders = {}\n",
    "dataloaders[\"train\"] = DataLoader(dataset=train_data,\n",
    "                                          batch_size=BATCH_SIZE,\n",
    "                                          shuffle=True,\n",
    "                                          drop_last=True)\n",
    "\n",
    "dataloaders[\"test\"] = DataLoader(dataset=test_data,\n",
    "                                          batch_size=BATCH_SIZE,\n",
    "                                          shuffle=True,\n",
    "                                          drop_last=True)\n",
    "\n",
    "dataloaders[\"noise\"] = DataLoader(dataset=noise_set,\n",
    "                                          batch_size=BATCH_SIZE,\n",
    "                                          shuffle=True,\n",
    "                                          drop_last=True)\n",
    "\n",
    "images = next(iter(dataloaders[\"test\"]))\n",
    "plt.imshow(np.transpose(images[0], (1,2,0)))\n"
   ]
  },
  {
   "cell_type": "code",
   "execution_count": 16,
   "id": "a07d0e77",
   "metadata": {
    "scrolled": true
   },
   "outputs": [
    {
     "name": "stdout",
     "output_type": "stream",
     "text": [
      "Training started!\n",
      "Epoch 1 | Loss: 1123516.3184 | V_Loss: 757468.4\n",
      "Epoch 2 | Loss: 719712.1712 | V_Loss: 535623.848\n",
      "Epoch 3 | Loss: 3795596.192 | V_Loss: 450103.376\n",
      "Epoch 4 | Loss: 2459443.6888 | V_Loss: 395309.496\n",
      "Epoch 5 | Loss: 135282628.4696 | V_Loss: 329839.872\n",
      "Epoch 6 | Loss: 78174956131.7416 | V_Loss: 305812.196\n",
      "Epoch 7 | Loss: 2504852766.5832 | V_Loss: 283844.644\n",
      "Epoch 8 | Loss: 7195237604.0808 | V_Loss: 267979.46\n",
      "Epoch 9 | Loss: 1472339.364 | V_Loss: 260770.056\n",
      "Epoch 10 | Loss: 280932.2376 | V_Loss: 243358.77\n",
      "Epoch 11 | Loss: 8209384871.5384 | V_Loss: 237823.344\n",
      "Epoch 12 | Loss: 480041662.9924 | V_Loss: 212378.316\n",
      "Epoch 13 | Loss: 1386433.668 | V_Loss: 204426.596\n",
      "Epoch 14 | Loss: 131835722.3616 | V_Loss: 201403.46\n",
      "Epoch 15 | Loss: 11871324763.7492 | V_Loss: 195756.314\n",
      "Epoch 16 | Loss: 3741687.7184 | V_Loss: 185736.054\n",
      "Epoch 17 | Loss: 2824941.7936 | V_Loss: 200438.444\n",
      "Epoch 18 | Loss: 376458774.7628 | V_Loss: 185504.368\n",
      "Epoch 19 | Loss: 76277550202.5412 | V_Loss: 182713.192\n",
      "Epoch 20 | Loss: 4899902570.8212 | V_Loss: 181892.748\n",
      "Epoch 21 | Loss: 171001.7344 | V_Loss: 173367.378\n",
      "Epoch 22 | Loss: 167132.2456 | V_Loss: 166722.832\n",
      "Epoch 23 | Loss: 234059.9864 | V_Loss: 163222.44\n",
      "Epoch 24 | Loss: 1773904.2276 | V_Loss: 160766.954\n",
      "Epoch 25 | Loss: 35724886.5472 | V_Loss: 159211.986\n",
      "Epoch 26 | Loss: 144867.268 | V_Loss: 164173.694\n",
      "Epoch 27 | Loss: 146680.7064 | V_Loss: 150565.416\n",
      "Epoch 28 | Loss: 137961.1458 | V_Loss: 149135.994\n",
      "Epoch 29 | Loss: 134047.6444 | V_Loss: 144981.386\n",
      "Epoch 30 | Loss: 129231.6382 | V_Loss: 142804.238\n",
      "Epoch 31 | Loss: 128404.63 | V_Loss: 145636.032\n",
      "Epoch 32 | Loss: 126100.4594 | V_Loss: 138784.89\n",
      "Epoch 33 | Loss: 121108.5264 | V_Loss: 137665.744\n",
      "Epoch 34 | Loss: 118958.1972 | V_Loss: 132338.128\n",
      "Epoch 35 | Loss: 116703.0694 | V_Loss: 134038.858\n",
      "Epoch 36 | Loss: 115745.8292 | V_Loss: 130918.394\n",
      "Epoch 37 | Loss: 111470.7698 | V_Loss: 130685.734\n",
      "Epoch 38 | Loss: 108927.653 | V_Loss: 128138.692\n",
      "Epoch 39 | Loss: 108892.8086 | V_Loss: 125613.372\n",
      "Epoch 40 | Loss: 105879.907 | V_Loss: 123817.763\n",
      "Epoch 41 | Loss: 104796.1738 | V_Loss: 124256.326\n",
      "Epoch 42 | Loss: 101978.4826 | V_Loss: 121140.964\n",
      "Epoch 43 | Loss: 100134.8476 | V_Loss: 124331.52\n",
      "Epoch 44 | Loss: 98435.9922 | V_Loss: 123002.472\n",
      "Epoch 45 | Loss: 96647.5042 | V_Loss: 121429.158\n",
      "Epoch 46 | Loss: 93351.3306 | V_Loss: 117126.07\n",
      "Epoch 47 | Loss: 92966.3882 | V_Loss: 115880.199\n",
      "Epoch 48 | Loss: 95005.162 | V_Loss: 116158.666\n",
      "Epoch 49 | Loss: 91864.3792 | V_Loss: 111551.667\n",
      "Epoch 50 | Loss: 89609.2566 | V_Loss: 111843.544\n",
      "Epoch 51 | Loss: 88592.2614 | V_Loss: 114307.897\n",
      "Epoch 52 | Loss: 86187.66 | V_Loss: 111382.426\n",
      "Epoch 53 | Loss: 85894.6802 | V_Loss: 117209.412\n",
      "Epoch 54 | Loss: 84547.1596 | V_Loss: 113254.763\n",
      "Epoch 55 | Loss: 82914.2114 | V_Loss: 108233.967\n",
      "Epoch 56 | Loss: 81961.8924 | V_Loss: 106652.494\n",
      "Epoch 57 | Loss: 81704.9206 | V_Loss: 110386.44\n",
      "Epoch 58 | Loss: 80931.5788 | V_Loss: 108688.374\n",
      "Epoch 59 | Loss: 78876.7974 | V_Loss: 104908.109\n",
      "Epoch 60 | Loss: 77825.5532 | V_Loss: 106955.619\n",
      "Epoch 61 | Loss: 79026.6602 | V_Loss: 107015.923\n",
      "Epoch 62 | Loss: 75241.6889 | V_Loss: 106400.934\n",
      "Epoch 63 | Loss: 74473.4426 | V_Loss: 100831.714\n",
      "Epoch 64 | Loss: 74245.3232 | V_Loss: 105345.672\n",
      "Epoch 65 | Loss: 72463.3483 | V_Loss: 104058.809\n",
      "Epoch 66 | Loss: 73231.9702 | V_Loss: 103037.308\n",
      "Epoch 67 | Loss: 72755.4399 | V_Loss: 103115.055\n",
      "Epoch 68 | Loss: 72059.7941 | V_Loss: 102899.928\n",
      "Epoch 69 | Loss: 70517.4745 | V_Loss: 98562.384\n",
      "Epoch 70 | Loss: 68552.6167 | V_Loss: 98806.155\n",
      "Epoch 71 | Loss: 66677.7185 | V_Loss: 101351.891\n",
      "Epoch 72 | Loss: 66587.392 | V_Loss: 98672.292\n",
      "Epoch 73 | Loss: 66567.1821 | V_Loss: 97511.952\n",
      "Epoch 74 | Loss: 65762.1884 | V_Loss: 97629.401\n",
      "Epoch 75 | Loss: 65133.3216 | V_Loss: 96158.595\n",
      "Epoch 76 | Loss: 64104.7938 | V_Loss: 96783.783\n",
      "Epoch 77 | Loss: 62360.6131 | V_Loss: 95291.883\n",
      "Epoch 78 | Loss: 62638.3214 | V_Loss: 98808.517\n",
      "Epoch 79 | Loss: 63033.3769 | V_Loss: 96968.68\n",
      "Epoch 80 | Loss: 62088.2325 | V_Loss: 94523.475\n",
      "Epoch 81 | Loss: 61136.9086 | V_Loss: 96279.374\n",
      "Epoch 82 | Loss: 59570.275 | V_Loss: 94566.704\n",
      "Epoch 83 | Loss: 61347.8591 | V_Loss: 94587.97\n",
      "Epoch 84 | Loss: 59401.5001 | V_Loss: 95222.325\n",
      "Epoch 85 | Loss: 59161.0545 | V_Loss: 93417.89\n",
      "Epoch 86 | Loss: 58395.1169 | V_Loss: 91459.559\n",
      "Epoch 87 | Loss: 58837.4697 | V_Loss: 91528.181\n",
      "Epoch 88 | Loss: 58387.7076 | V_Loss: 94310.827\n",
      "Epoch 89 | Loss: 56840.1208 | V_Loss: 91424.867\n",
      "Epoch 90 | Loss: 56811.354 | V_Loss: 93500.211\n",
      "Epoch 91 | Loss: 56709.9362 | V_Loss: 93051.64\n",
      "Epoch 92 | Loss: 55344.9048 | V_Loss: 90610.94\n",
      "Epoch 93 | Loss: 53483.3246 | V_Loss: 90557.281\n",
      "Epoch 94 | Loss: 54461.5379 | V_Loss: 90012.226\n",
      "Epoch 95 | Loss: 55057.3692 | V_Loss: 88111.72\n",
      "Epoch 96 | Loss: 53499.194 | V_Loss: 91561.456\n",
      "Epoch 97 | Loss: 52622.6768 | V_Loss: 90534.78\n",
      "Epoch 98 | Loss: 52388.0532 | V_Loss: 87584.55\n",
      "Epoch 99 | Loss: 51467.0573 | V_Loss: 87731.138\n",
      "Epoch 100 | Loss: 53277.2006 | V_Loss: 87517.718\n",
      "Epoch 101 | Loss: 51658.2631 | V_Loss: 91355.609\n",
      "Epoch 102 | Loss: 52631.3953 | V_Loss: 87130.467\n",
      "Epoch 103 | Loss: 50228.2669 | V_Loss: 88588.929\n",
      "Epoch 104 | Loss: 49550.2301 | V_Loss: 85674.751\n",
      "Epoch 105 | Loss: 49749.5293 | V_Loss: 89898.873\n",
      "Epoch 106 | Loss: 49132.0625 | V_Loss: 89108.453\n",
      "Epoch 107 | Loss: 47872.4521 | V_Loss: 86630.102\n",
      "Epoch 108 | Loss: 47905.5872 | V_Loss: 87544.199\n",
      "Epoch 109 | Loss: 48910.6686 | V_Loss: 88135.457\n",
      "Epoch 110 | Loss: 46946.8265 | V_Loss: 85760.026\n",
      "Epoch 111 | Loss: 46718.9932 | V_Loss: 89485.695\n",
      "Epoch 112 | Loss: 47262.2355 | V_Loss: 85526.739\n",
      "Epoch 113 | Loss: 45527.0571 | V_Loss: 85290.276\n",
      "Epoch 114 | Loss: 45171.9761 | V_Loss: 86541.46\n",
      "Epoch 115 | Loss: 45971.2432 | V_Loss: 89985.837\n",
      "Epoch 116 | Loss: 45256.5197 | V_Loss: 87376.888\n",
      "Epoch 117 | Loss: 44837.0006 | V_Loss: 85364.946\n",
      "Epoch 118 | Loss: 44403.687 | V_Loss: 82219.154\n",
      "Epoch 119 | Loss: 43046.8006 | V_Loss: 85285.662\n",
      "Epoch 120 | Loss: 43241.1263 | V_Loss: 85705.36\n",
      "Epoch 121 | Loss: 43098.7731 | V_Loss: 86197.919\n",
      "Epoch 122 | Loss: 43029.059 | V_Loss: 83484.146\n",
      "Epoch 123 | Loss: 44552.786 | V_Loss: 84095.32\n",
      "Epoch 124 | Loss: 42815.0983 | V_Loss: 90946.848\n",
      "Epoch 125 | Loss: 42821.711 | V_Loss: 82090.64\n",
      "Epoch 126 | Loss: 42717.68 | V_Loss: 83536.402\n",
      "Epoch 127 | Loss: 42115.0882 | V_Loss: 81880.204\n",
      "Epoch 128 | Loss: 41398.6328 | V_Loss: 85424.207\n",
      "Epoch 129 | Loss: 41069.1733 | V_Loss: 82309.616\n",
      "Epoch 130 | Loss: 41870.0123 | V_Loss: 82065.323\n",
      "Epoch 131 | Loss: 41034.9809 | V_Loss: 82214.031\n",
      "Epoch 132 | Loss: 41137.8978 | V_Loss: 83180.261\n",
      "Epoch 133 | Loss: 41196.8939 | V_Loss: 80978.796\n",
      "Epoch 134 | Loss: 39943.5775 | V_Loss: 81218.044\n",
      "Epoch 135 | Loss: 40168.5654 | V_Loss: 82619.17\n",
      "Epoch 136 | Loss: 39760.0511 | V_Loss: 82476.434\n",
      "Epoch 137 | Loss: 39260.8299 | V_Loss: 85216.901\n",
      "Epoch 138 | Loss: 39075.3449 | V_Loss: 81350.124\n",
      "Epoch 139 | Loss: 38794.097 | V_Loss: 85598.442\n",
      "Epoch 140 | Loss: 38779.6998 | V_Loss: 83066.187\n",
      "Epoch 141 | Loss: 37702.8788 | V_Loss: 81168.044\n",
      "Epoch 142 | Loss: 37280.96905 | V_Loss: 81548.143\n",
      "Epoch 143 | Loss: 38262.58105 | V_Loss: 79334.325\n",
      "Epoch 144 | Loss: 36581.2053 | V_Loss: 80141.435\n",
      "Epoch 145 | Loss: 35938.03735 | V_Loss: 78927.594\n",
      "Epoch 146 | Loss: 36667.84235 | V_Loss: 80684.084\n",
      "Epoch 147 | Loss: 36679.8121 | V_Loss: 82417.863\n",
      "Epoch 148 | Loss: 36816.93525 | V_Loss: 81194.061\n",
      "Epoch 149 | Loss: 36798.95595 | V_Loss: 81226.365\n",
      "Epoch 150 | Loss: 37004.0744 | V_Loss: 79967.721\n",
      "Epoch 151 | Loss: 35033.7555 | V_Loss: 79416.627\n",
      "Epoch 152 | Loss: 36367.97575 | V_Loss: 80808.682\n",
      "Epoch 153 | Loss: 36004.86185 | V_Loss: 83474.164\n",
      "Epoch 154 | Loss: 35264.1231 | V_Loss: 81281.187\n",
      "Epoch 155 | Loss: 35373.2845 | V_Loss: 83528.758\n",
      "Epoch 156 | Loss: 34999.71695 | V_Loss: 80234.93\n",
      "Epoch 157 | Loss: 35244.42095 | V_Loss: 78915.702\n",
      "Epoch 158 | Loss: 34981.9236 | V_Loss: 77054.303\n",
      "Epoch 159 | Loss: 35034.2326 | V_Loss: 79013.036\n",
      "Epoch 160 | Loss: 34220.35245 | V_Loss: 77906.197\n",
      "Epoch 161 | Loss: 33927.16935 | V_Loss: 80700.642\n",
      "Epoch 162 | Loss: 33981.37905 | V_Loss: 76569.537\n",
      "Epoch 163 | Loss: 33357.90755 | V_Loss: 78572.825\n",
      "Epoch 164 | Loss: 33039.21135 | V_Loss: 79282.214\n",
      "Epoch 165 | Loss: 33064.9879 | V_Loss: 80281.205\n",
      "Epoch 166 | Loss: 32856.0401 | V_Loss: 82196.93\n",
      "Epoch 167 | Loss: 32921.50955 | V_Loss: 77436.399\n"
     ]
    },
    {
     "name": "stdout",
     "output_type": "stream",
     "text": [
      "Epoch 168 | Loss: 33223.5286 | V_Loss: 80035.39\n",
      "Epoch 169 | Loss: 33207.9656 | V_Loss: 78281.44\n",
      "Epoch 170 | Loss: 33358.9349 | V_Loss: 79314.388\n",
      "Epoch 171 | Loss: 32658.56235 | V_Loss: 78200.824\n",
      "Epoch 172 | Loss: 32669.00695 | V_Loss: 78067.344\n",
      "Epoch 173 | Loss: 34069.304 | V_Loss: 76694.584\n",
      "Epoch 174 | Loss: 31270.1564 | V_Loss: 81646.408\n",
      "Epoch 175 | Loss: 31315.7391 | V_Loss: 77529.225\n",
      "Epoch 176 | Loss: 31792.37405 | V_Loss: 79757.971\n",
      "Epoch 177 | Loss: 31739.9616 | V_Loss: 76751.97\n",
      "Epoch 178 | Loss: 30533.0576 | V_Loss: 79330.93\n",
      "Epoch 179 | Loss: 31615.8508 | V_Loss: 78656.985\n",
      "Epoch 180 | Loss: 30032.39325 | V_Loss: 78186.828\n",
      "Epoch 181 | Loss: 31979.0598 | V_Loss: 77936.507\n",
      "Epoch 182 | Loss: 31377.18245 | V_Loss: 78230.01\n",
      "Epoch 183 | Loss: 31036.69595 | V_Loss: 77529.702\n",
      "Epoch 184 | Loss: 30001.2505 | V_Loss: 78269.216\n",
      "Epoch 185 | Loss: 30360.4943 | V_Loss: 77512.368\n",
      "Epoch 186 | Loss: 32479.19245 | V_Loss: 80077.223\n",
      "Epoch 187 | Loss: 32068.55905 | V_Loss: 76611.457\n",
      "Epoch 188 | Loss: 362659.319 | V_Loss: 79916.954\n",
      "Epoch 189 | Loss: 35218.22465 | V_Loss: 85925.7\n",
      "Epoch 190 | Loss: 35911.31575 | V_Loss: 82905.787\n",
      "Epoch 191 | Loss: 33071.2577 | V_Loss: 78800.339\n",
      "Epoch 192 | Loss: 32613.76705 | V_Loss: 78118.6\n",
      "Epoch 193 | Loss: 30990.76025 | V_Loss: 77775.06\n",
      "Epoch 194 | Loss: 30331.3232 | V_Loss: 78167.773\n",
      "Epoch 195 | Loss: 29298.63575 | V_Loss: 75604.851\n",
      "Epoch 196 | Loss: 29406.90925 | V_Loss: 76677.537\n",
      "Epoch 197 | Loss: 30093.65265 | V_Loss: 75983.95\n",
      "Epoch 198 | Loss: 29362.982 | V_Loss: 75802.584\n",
      "Epoch 199 | Loss: 29198.53545 | V_Loss: 78312.619\n",
      "Epoch 200 | Loss: 29718.74335 | V_Loss: 74770.992\n",
      "Epoch 201 | Loss: 28530.33205 | V_Loss: 75017.912\n",
      "Epoch 202 | Loss: 30620.13355 | V_Loss: 75083.419\n",
      "Epoch 203 | Loss: 28605.2489 | V_Loss: 74807.009\n",
      "Epoch 204 | Loss: 27621.8944 | V_Loss: 74497.796\n",
      "Epoch 205 | Loss: 27095.11275 | V_Loss: 73872.176\n",
      "Epoch 206 | Loss: 27870.9127 | V_Loss: 76982.198\n",
      "Epoch 207 | Loss: 27932.7988 | V_Loss: 75710.712\n",
      "Epoch 208 | Loss: 27932.30465 | V_Loss: 76664.912\n",
      "Epoch 209 | Loss: 28085.09165 | V_Loss: 74662.647\n",
      "Epoch 210 | Loss: 27354.2289 | V_Loss: 75582.39\n",
      "Epoch 211 | Loss: 27353.6266 | V_Loss: 76548.736\n",
      "Epoch 212 | Loss: 27752.702 | V_Loss: 73771.603\n",
      "Epoch 213 | Loss: 26797.1164 | V_Loss: 74284.251\n",
      "Epoch 214 | Loss: 26879.61055 | V_Loss: 76153.251\n",
      "Epoch 215 | Loss: 27114.79715 | V_Loss: 76312.657\n",
      "Epoch 216 | Loss: 27141.7231 | V_Loss: 76820.404\n",
      "Epoch 217 | Loss: 25554.3668 | V_Loss: 74885.968\n",
      "Epoch 218 | Loss: 26529.56695 | V_Loss: 76121.321\n",
      "Epoch 219 | Loss: 26660.73565 | V_Loss: 74008.74\n",
      "Epoch 220 | Loss: 26389.45615 | V_Loss: 72824.863\n",
      "Epoch 221 | Loss: 26421.73255 | V_Loss: 73196.743\n",
      "Epoch 222 | Loss: 25951.67015 | V_Loss: 73424.156\n",
      "Epoch 223 | Loss: 16732443.10825 | V_Loss: 76944.502\n",
      "Epoch 224 | Loss: 27520.11615 | V_Loss: 75575.586\n",
      "Epoch 225 | Loss: 25528.6258 | V_Loss: 74084.613\n",
      "Epoch 226 | Loss: 25956.3226 | V_Loss: 74655.79\n",
      "Epoch 227 | Loss: 25624.06945 | V_Loss: 75616.234\n",
      "Epoch 228 | Loss: 25364.22905 | V_Loss: 72670.366\n",
      "Epoch 229 | Loss: 25358.0373 | V_Loss: 77036.909\n",
      "Epoch 230 | Loss: 24551.4121 | V_Loss: 76326.996\n",
      "Epoch 231 | Loss: 25419.0874 | V_Loss: 73311.761\n",
      "Epoch 232 | Loss: 26035.6858 | V_Loss: 74483.924\n",
      "Epoch 233 | Loss: 24990.2441 | V_Loss: 74061.827\n",
      "Epoch 234 | Loss: 26120.6408 | V_Loss: 74849.812\n",
      "Epoch 235 | Loss: 25134.59475 | V_Loss: 74244.241\n",
      "Epoch 236 | Loss: 24318.704 | V_Loss: 75017.418\n",
      "Epoch 237 | Loss: 24808.9036 | V_Loss: 75658.8\n",
      "Epoch 238 | Loss: 24073.9202 | V_Loss: 73942.327\n",
      "Epoch 239 | Loss: 25002.2257 | V_Loss: 75584.827\n",
      "Epoch 240 | Loss: 24482.0588 | V_Loss: 74222.616\n",
      "Epoch 241 | Loss: 24553.0612 | V_Loss: 73765.003\n",
      "Epoch 242 | Loss: 24643.81915 | V_Loss: 73206.744\n",
      "Epoch 243 | Loss: 18806321.59 | V_Loss: 78608.239\n",
      "Epoch 244 | Loss: 25045.0477 | V_Loss: 72827.226\n",
      "Epoch 245 | Loss: 26662.03095 | V_Loss: 76163.306\n",
      "Epoch 246 | Loss: 25316.1244 | V_Loss: 78486.893\n",
      "Epoch 247 | Loss: 25098.01355 | V_Loss: 75455.02\n",
      "Epoch 248 | Loss: 25256.00435 | V_Loss: 77079.414\n",
      "Epoch 249 | Loss: 23938.00345 | V_Loss: 75479.758\n",
      "Epoch 250 | Loss: 25496.0667 | V_Loss: 75048.062\n",
      "Epoch 251 | Loss: 24202.25725 | V_Loss: 78429.239\n",
      "Epoch 252 | Loss: 25177.2249 | V_Loss: 73526.844\n",
      "Epoch 253 | Loss: 1444135669.40605 | V_Loss: 181954.578\n",
      "Epoch 254 | Loss: 59925.65425 | V_Loss: 309599.104\n",
      "Epoch 255 | Loss: 64082.4295 | V_Loss: 205743.102\n",
      "Epoch 256 | Loss: 56604.42305 | V_Loss: 367276.796\n",
      "Epoch 257 | Loss: 57921.986 | V_Loss: 108046.965\n",
      "Epoch 258 | Loss: 53484.27765 | V_Loss: 233156.28\n",
      "Epoch 259 | Loss: 54849.78135 | V_Loss: 173496.316\n",
      "Epoch 260 | Loss: 49519.6862 | V_Loss: 234636.802\n",
      "Epoch 261 | Loss: 42104.62075 | V_Loss: 362026.674\n",
      "Epoch 262 | Loss: 45367.61165 | V_Loss: 294226.436\n",
      "Epoch 263 | Loss: 43185.13925 | V_Loss: 96372.899\n",
      "Epoch 264 | Loss: 52552.8822 | V_Loss: 174756.533\n",
      "Epoch 265 | Loss: 44955.29845 | V_Loss: 218273.1\n",
      "Epoch 266 | Loss: 55361.24215 | V_Loss: 144548.359\n",
      "Epoch 267 | Loss: 39993.9175 | V_Loss: 229313.192\n",
      "Epoch 268 | Loss: 40243.61575 | V_Loss: 335162.557\n",
      "Epoch 269 | Loss: 48767.88355 | V_Loss: 186538.309\n",
      "Epoch 270 | Loss: 43429.12435 | V_Loss: 301939.175\n",
      "Epoch 271 | Loss: 45804.18705 | V_Loss: 102047.532\n",
      "Epoch 272 | Loss: 45265.42935 | V_Loss: 158958.011\n",
      "Epoch 273 | Loss: 46387.9716 | V_Loss: 414007.566\n",
      "Epoch 274 | Loss: 41271.81225 | V_Loss: 164894.556\n",
      "Epoch 275 | Loss: 47714.5379 | V_Loss: 256791.011\n",
      "Epoch 276 | Loss: 42639.2237 | V_Loss: 293225.292\n",
      "Epoch 277 | Loss: 45521.05625 | V_Loss: 167253.469\n",
      "Epoch 278 | Loss: 50643.97755 | V_Loss: 258851.746\n",
      "Epoch 279 | Loss: 37940.7341 | V_Loss: 99727.018\n",
      "Epoch 280 | Loss: 38115.17165 | V_Loss: 209654.293\n",
      "Epoch 281 | Loss: 39252.793 | V_Loss: 234673.963\n",
      "Epoch 282 | Loss: 41117.4922 | V_Loss: 92052.674\n",
      "Epoch 283 | Loss: 39013.1278 | V_Loss: 210980.188\n",
      "Epoch 284 | Loss: 42600.33225 | V_Loss: 185163.91\n",
      "Epoch 285 | Loss: 40466.26125 | V_Loss: 272579.568\n",
      "Epoch 286 | Loss: 47477.0348 | V_Loss: 180755.245\n",
      "Epoch 287 | Loss: 37798.70195 | V_Loss: 226806.077\n",
      "Epoch 288 | Loss: 38517.0596 | V_Loss: 147742.022\n",
      "Epoch 289 | Loss: 47762.82885 | V_Loss: 87194.442\n",
      "Epoch 290 | Loss: 38987.97135 | V_Loss: 310303.432\n",
      "Epoch 291 | Loss: 36811.62605 | V_Loss: 136848.082\n",
      "Epoch 292 | Loss: 38505.84045 | V_Loss: 210550.002\n",
      "Epoch 293 | Loss: 35851.88695 | V_Loss: 170799.781\n",
      "Epoch 294 | Loss: 37692.91895 | V_Loss: 97904.343\n",
      "Epoch 295 | Loss: 42437.1269 | V_Loss: 167155.346\n",
      "Epoch 296 | Loss: 42015.2908 | V_Loss: 268349.88\n",
      "Epoch 297 | Loss: 41869.8975 | V_Loss: 196473.452\n",
      "Epoch 298 | Loss: 42505.18095 | V_Loss: 178234.431\n",
      "Epoch 299 | Loss: 39203.5076 | V_Loss: 219069.779\n",
      "Epoch 300 | Loss: 33710.5426 | V_Loss: 94004.352\n",
      "Epoch 301 | Loss: 34561.6332 | V_Loss: 165626.002\n",
      "Epoch 302 | Loss: 34448.86955 | V_Loss: 78596.603\n",
      "Epoch 303 | Loss: 34771.5005 | V_Loss: 338654.183\n",
      "Epoch 304 | Loss: 38042.8225 | V_Loss: 113610.267\n",
      "Epoch 305 | Loss: 35688.22205 | V_Loss: 156968.782\n",
      "Epoch 306 | Loss: 35425.0868 | V_Loss: 175724.751\n",
      "Epoch 307 | Loss: 44273.26415 | V_Loss: 89532.87\n",
      "Epoch 308 | Loss: 35204.09435 | V_Loss: 185100.254\n",
      "Epoch 309 | Loss: 33122.0581 | V_Loss: 190026.851\n",
      "Epoch 310 | Loss: 35885.0922 | V_Loss: 185642.131\n",
      "Epoch 311 | Loss: 41644.05325 | V_Loss: 241015.775\n",
      "Epoch 312 | Loss: 41728.6784 | V_Loss: 135201.303\n",
      "Epoch 313 | Loss: 36314.464 | V_Loss: 170884.262\n",
      "Epoch 314 | Loss: 38144.5493 | V_Loss: 165710.977\n",
      "Epoch 315 | Loss: 35898.2238 | V_Loss: 157690.906\n",
      "Epoch 316 | Loss: 35034.1358 | V_Loss: 151063.684\n",
      "Epoch 317 | Loss: 31440.75405 | V_Loss: 78369.729\n",
      "Epoch 318 | Loss: 33509.6969 | V_Loss: 162609.125\n",
      "Epoch 319 | Loss: 33762.00535 | V_Loss: 185144.153\n",
      "Epoch 320 | Loss: 39794.13515 | V_Loss: 139517.174\n",
      "Epoch 321 | Loss: 37840.3891 | V_Loss: 164490.997\n",
      "Epoch 322 | Loss: 32976.5788 | V_Loss: 172921.109\n",
      "Epoch 323 | Loss: 33240.55175 | V_Loss: 170703.098\n",
      "Epoch 324 | Loss: 45548.1262 | V_Loss: 159112.633\n",
      "Epoch 325 | Loss: 32987.8844 | V_Loss: 176503.37\n",
      "Epoch 326 | Loss: 35504.7946 | V_Loss: 178872.698\n",
      "Epoch 327 | Loss: 30657.17215 | V_Loss: 133077.795\n",
      "Epoch 328 | Loss: 31972.175 | V_Loss: 181128.263\n",
      "Epoch 329 | Loss: 30584.7258 | V_Loss: 106147.78\n",
      "Epoch 330 | Loss: 37000.61235 | V_Loss: 135863.865\n",
      "Epoch 331 | Loss: 36149.7248 | V_Loss: 103844.251\n",
      "Epoch 332 | Loss: 30460.63775 | V_Loss: 129242.507\n"
     ]
    },
    {
     "name": "stdout",
     "output_type": "stream",
     "text": [
      "Epoch 333 | Loss: 30851.6348 | V_Loss: 146707.15\n",
      "Epoch 334 | Loss: 31254.51485 | V_Loss: 125237.81\n",
      "Epoch 335 | Loss: 32290.26575 | V_Loss: 336404.044\n",
      "Epoch 336 | Loss: 31794.76385 | V_Loss: 109506.114\n",
      "Epoch 337 | Loss: 31236.38625 | V_Loss: 156826.556\n",
      "Epoch 338 | Loss: 31110.5831 | V_Loss: 133570.368\n",
      "Epoch 339 | Loss: 42911.62855 | V_Loss: 161369.856\n",
      "Epoch 340 | Loss: 28065.6649 | V_Loss: 208244.56\n",
      "Epoch 341 | Loss: 33524.34555 | V_Loss: 115411.672\n",
      "Epoch 342 | Loss: 33519.9416 | V_Loss: 139082.543\n",
      "Epoch 343 | Loss: 30290.1319 | V_Loss: 81250.164\n",
      "Epoch 344 | Loss: 32295.276 | V_Loss: 150901.627\n",
      "Epoch 345 | Loss: 33732.1146 | V_Loss: 167604.228\n",
      "Epoch 346 | Loss: 31137.00975 | V_Loss: 114335.626\n",
      "Epoch 347 | Loss: 31841.67555 | V_Loss: 135985.746\n",
      "Epoch 348 | Loss: 30741.86785 | V_Loss: 221136.254\n",
      "Epoch 349 | Loss: 26827.8647 | V_Loss: 159866.641\n",
      "Epoch 350 | Loss: 25592.6969 | V_Loss: 151336.708\n",
      "Epoch 351 | Loss: 32176.6081 | V_Loss: 118996.039\n",
      "Epoch 352 | Loss: 27056.58985 | V_Loss: 150023.866\n",
      "Epoch 353 | Loss: 28679.6333 | V_Loss: 97088.456\n",
      "Epoch 354 | Loss: 31347.8836 | V_Loss: 102214.098\n",
      "Epoch 355 | Loss: 31178.9022 | V_Loss: 111867.099\n",
      "Epoch 356 | Loss: 27566.27555 | V_Loss: 163482.913\n",
      "Epoch 357 | Loss: 31024.11125 | V_Loss: 126557.759\n",
      "Epoch 358 | Loss: 27270.14615 | V_Loss: 81965.527\n",
      "Epoch 359 | Loss: 28279.091 | V_Loss: 149610.659\n",
      "Epoch 360 | Loss: 32094.85645 | V_Loss: 141725.267\n",
      "Epoch 361 | Loss: 28353.90295 | V_Loss: 137012.21\n",
      "Epoch 362 | Loss: 27802.1391 | V_Loss: 236939.942\n",
      "Epoch 363 | Loss: 32217.1904 | V_Loss: 156475.869\n",
      "Epoch 364 | Loss: 41827.8488 | V_Loss: 89887.7255\n",
      "Epoch 365 | Loss: 31588.99375 | V_Loss: 84748.472\n",
      "Epoch 366 | Loss: 1791043.55805 | V_Loss: 182808.75\n",
      "Epoch 367 | Loss: 54365.9736 | V_Loss: 141934.422\n",
      "Epoch 368 | Loss: 45813.1685 | V_Loss: 211623.265\n",
      "Epoch 369 | Loss: 38966.3871 | V_Loss: 202264.162\n",
      "Epoch 370 | Loss: 40260.24835 | V_Loss: 149973.784\n",
      "Epoch 371 | Loss: 38633.6975 | V_Loss: 108427.939\n",
      "Epoch 372 | Loss: 37094.0325 | V_Loss: 142372.956\n",
      "Epoch 373 | Loss: 35277.2257 | V_Loss: 94122.827\n",
      "Epoch 374 | Loss: 33338.1494 | V_Loss: 106514.416\n",
      "Epoch 375 | Loss: 36645.1243 | V_Loss: 171625.332\n",
      "Epoch 376 | Loss: 39466.021 | V_Loss: 142027.653\n",
      "Epoch 377 | Loss: 30182.2666 | V_Loss: 279216.805\n",
      "Epoch 378 | Loss: 32667.6653 | V_Loss: 80367.06\n",
      "Epoch 379 | Loss: 28810.72 | V_Loss: 72764.96\n",
      "Changed learningrate\n",
      "Epoch 380 | Loss: 33139.33635 | V_Loss: 136089.138\n",
      "Epoch 381 | Loss: 31777.41235 | V_Loss: 165858.027\n",
      "Epoch 382 | Loss: 30818.60895 | V_Loss: 134331.593\n",
      "Epoch 383 | Loss: 33325.57905 | V_Loss: 141810.152\n",
      "Epoch 384 | Loss: 29928.92945 | V_Loss: 139475.028\n",
      "Epoch 385 | Loss: 31390.65155 | V_Loss: 81692.268\n",
      "Epoch 386 | Loss: 27966.81315 | V_Loss: 112926.316\n",
      "Epoch 387 | Loss: 32972.927 | V_Loss: 147030.929\n",
      "Epoch 388 | Loss: 29969.05225 | V_Loss: 122676.167\n",
      "Epoch 389 | Loss: 28226.83255 | V_Loss: 98856.376\n",
      "Epoch 390 | Loss: 29323.7663 | V_Loss: 76750.519\n",
      "Epoch 391 | Loss: 26016.4456 | V_Loss: 121126.584\n",
      "Epoch 392 | Loss: 29558.50875 | V_Loss: 103987.58\n",
      "Epoch 393 | Loss: 29811.74735 | V_Loss: 247317.221\n",
      "Epoch 394 | Loss: 33951.681 | V_Loss: 118922.04\n",
      "Epoch 395 | Loss: 29806.13485 | V_Loss: 75096.025\n",
      "Epoch 396 | Loss: 31869.4471 | V_Loss: 125054.888\n",
      "Epoch 397 | Loss: 29986.80935 | V_Loss: 119115.03\n",
      "Epoch 398 | Loss: 29643.81255 | V_Loss: 181679.145\n",
      "Epoch 399 | Loss: 29817.31815 | V_Loss: 136121.757\n",
      "Epoch 400 | Loss: 30192.58025 | V_Loss: 109141.413\n"
     ]
    }
   ],
   "source": [
    "epoch = 2000\n",
    "train_losses = []\n",
    "val_losses = []\n",
    "\n",
    "print(\"Training started!\")\n",
    "\n",
    "for e in range(1, epoch+1):\n",
    "    if e == 1800:\n",
    "        for g in optimizer.param_groups:\n",
    "            g['lr'] = 1e-06\n",
    "        print(\"Changed learningrate\")\n",
    "\n",
    "    train_loss = 0.0\n",
    "    for x in dataloaders[\"train\"]:\n",
    "        x = x.to(device)\n",
    "        x_recon, mu, log_var = model(x)\n",
    "\n",
    "        optimizer.zero_grad()\n",
    "        loss = loss_fn(x, x_recon, mu, log_var)\n",
    "        loss.backward()\n",
    "        optimizer.step()\n",
    "\n",
    "        train_loss += loss.item()\n",
    "    \n",
    "    val_loss = 0.0\n",
    "    for x in dataloaders[\"test\"]:\n",
    "        x = x.to(device)\n",
    "        x_recon, mu, log_var = model(x)\n",
    "\n",
    "        optimizer.zero_grad()\n",
    "        loss = loss_fn(x, x_recon, mu, log_var)\n",
    "\n",
    "        val_loss += loss.item()\n",
    "    \n",
    "    train_losses.append(train_loss)\n",
    "    val_losses.append(val_loss)\n",
    "    train_loss /= len(dataloaders[\"train\"].dataset)\n",
    "    val_loss /= len(dataloaders[\"test\"].dataset)\n",
    "\n",
    "    print(f\"Epoch {e} | Loss: {train_loss} | V_Loss: {val_loss}\")\n"
   ]
  },
  {
   "cell_type": "code",
   "execution_count": 17,
   "id": "3ce19c28",
   "metadata": {},
   "outputs": [
    {
     "data": {
      "image/png": "[encoded data removed]",
      "text/plain": [
       "<Figure size 720x360 with 1 Axes>"
      ]
     },
     "metadata": {
      "needs_background": "light"
     },
     "output_type": "display_data"
    }
   ],
   "source": [
    "\n",
    "plt.figure(figsize=(10,5))\n",
    "plt.title(\"Training and Validation Loss\")\n",
    "plt.plot(val_losses[15:],label=\"val\")\n",
    "plt.plot(train_losses[15:],label=\"train\")\n",
    "plt.xlabel(\"iterations\")\n",
    "plt.ylabel(\"Loss\")\n",
    "plt.legend()\n",
    "plt.show()"
   ]
  },
  {
   "cell_type": "code",
   "execution_count": 20,
   "id": "5c000912",
   "metadata": {},
   "outputs": [],
   "source": [
    "def printReconError(img_in, img_out, threshold=None):\n",
    "    errorMatrix = np.absolute(img_in - img_out)\n",
    "    if not threshold == None:\n",
    "        errorMatrix[errorMatrix < threshold] = 0.0\n",
    "    errorAvg = np.sum(errorMatrix) / (errorMatrix.shape[0] * errorMatrix.shape[1])\n",
    "    print(f\"MAE: {errorAvg}\")\n",
    "    \n",
    "    fig, (ax1, ax2, ax3) = plt.subplots(1, 3, figsize=(15,15))\n",
    "    \n",
    "    ax1.set_title(\"Original\")\n",
    "    ax1.imshow(img_in)\n",
    "    ax2.set_title(\"Recreation\")\n",
    "    ax2.imshow(img_out)\n",
    "    ax3.set_title(\"ErrorMap\")\n",
    "    ax3.imshow(errorMatrix)"
   ]
  },
  {
   "cell_type": "code",
   "execution_count": 24,
   "id": "ec80e49d",
   "metadata": {},
   "outputs": [
    {
     "name": "stdout",
     "output_type": "stream",
     "text": [
      "MAE: 0.27731484174728394\n"
     ]
    },
    {
     "data": {
      "image/png": "[encoded data removed]",
      "text/plain": [
       "<Figure size 1080x1080 with 3 Axes>"
      ]
     },
     "metadata": {
      "needs_background": "light"
     },
     "output_type": "display_data"
    }
   ],
   "source": [
    "import random\n",
    "\n",
    "# model.eval()\n",
    "with torch.no_grad():\n",
    "    for imgs in random.sample(list(dataloaders[\"noise\"]), 1):\n",
    "        imgs = imgs.to(device)\n",
    "#         plt.subplot(121)\n",
    "        img = imgs[0].cpu().numpy()\n",
    "        img = np.transpose(img, (1,2,0))\n",
    "#         plt.imshow(img, cmap=\"gray\")\n",
    "        \n",
    "        out, mu, logVAR = model(imgs)\n",
    "#         plt.subplot(122)\n",
    "        out = out[0].cpu().numpy()\n",
    "        out = np.transpose(out, (1,2,0))\n",
    "#         plt.imshow(out, cmap=\"gray\")\n",
    "        \n",
    "        printReconError(img, out, 0.4)\n",
    "        break"
   ]
  },
  {
   "cell_type": "code",
   "execution_count": 20,
   "id": "235b7ed2",
   "metadata": {},
   "outputs": [
    {
     "data": {
      "text/plain": [
       "(1, 32, 32, 3)"
      ]
     },
     "execution_count": 20,
     "metadata": {},
     "output_type": "execute_result"
    }
   ],
   "source": [
    "tmp = []\n",
    "tmp.append(img)\n",
    "tmp = np.array(tmp)\n",
    "tmp.shape"
   ]
  },
  {
   "cell_type": "code",
   "execution_count": 25,
   "id": "498a68f6",
   "metadata": {},
   "outputs": [
    {
     "name": "stdout",
     "output_type": "stream",
     "text": [
      "torch.Size([128, 3, 32, 32])\n",
      "float32\n",
      "(32, 32, 3)\n",
      "(32, 32, 3)\n"
     ]
    },
    {
     "data": {
      "image/png": "[encoded data removed]",
      "text/plain": [
       "<Figure size 432x288 with 2 Axes>"
      ]
     },
     "metadata": {
      "needs_background": "light"
     },
     "output_type": "display_data"
    }
   ],
   "source": [
    "import random\n",
    "\n",
    "model.eval()\n",
    "with torch.no_grad():\n",
    "    for imgs in random.sample(list(dataloaders[\"train\"]), 1):\n",
    "#         imgs, _ = data\n",
    "        imgs = imgs.to(device)\n",
    "        print(imgs.shape)\n",
    "#         img = np.transpose(imgs[0].cpu().numpy(), [1,2,0])\n",
    "        plt.subplot(121)\n",
    "        img = imgs[0].cpu().numpy()\n",
    "        img = np.transpose(img, (1,2,0))\n",
    "        print(img.dtype)\n",
    "        print(img.shape)\n",
    "        plt.imshow(img)\n",
    "        out, mu, logVAR = model(imgs)\n",
    "#         outimg = np.transpose(out[0].cpu().numpy(), [1,2,0])\n",
    "        plt.subplot(122)\n",
    "        out = out[0].cpu().numpy()\n",
    "        out = np.transpose(out, (1,2,0))\n",
    "        print(out.shape)\n",
    "        plt.imshow(out)\n",
    "        break"
   ]
  },
  {
   "cell_type": "code",
   "execution_count": 27,
   "id": "0ae3d183",
   "metadata": {},
   "outputs": [],
   "source": [
    "torch.save(model.state_dict(), PATH)"
   ]
  },
  {
   "cell_type": "code",
   "execution_count": 22,
   "id": "9f6ac27e",
   "metadata": {},
   "outputs": [
    {
     "data": {
      "text/plain": [
       "4"
      ]
     },
     "execution_count": 22,
     "metadata": {},
     "output_type": "execute_result"
    }
   ],
   "source": [
    "x = int(4.6)\n",
    "x"
   ]
  }
 ],
 "metadata": {
  "kernelspec": {
   "display_name": "VAE_env",
   "language": "python",
   "name": "vae"
  },
  "language_info": {
   "codemirror_mode": {
    "name": "ipython",
    "version": 3
   },
   "file_extension": ".py",
   "mimetype": "text/x-python",
   "name": "python",
   "nbconvert_exporter": "python",
   "pygments_lexer": "ipython3",
   "version": "3.8.10"
  }
 },
 "nbformat": 4,
 "nbformat_minor": 5
}
